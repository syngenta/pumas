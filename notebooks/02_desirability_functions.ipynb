{
 "cells": [
  {
   "metadata": {},
   "cell_type": "markdown",
   "source": "# Desirability Functions",
   "id": "b6217243b5576748"
  },
  {
   "cell_type": "markdown",
   "id": "e2c610fb95d9ffc3",
   "metadata": {},
   "source": [
    "Desirability functions are mathematical constructs used to quantify the preferability of different outcomes in multi-objective optimization problems. These functions depend on multiple variables, which can be categorized into two main types:\n",
    "\n",
    "1. **Parameters**: Also referred to as coefficient parameters or shape parameters, these define the functional form of the desirability function. Each desirability function is characterized by a unique set of shape parameters, denoted as $\\theta = (\\theta_1, \\theta_2, ..., \\theta_n)$, where each $\\theta_i$ has its specific type and valid range.\n",
    "\n",
    "2. **Input Variables**: These are the variables to which the desirability function is applied, represented as $x = (x_1, x_2, ..., x_m)$.\n",
    "\n",
    "The general form of a desirability function can be expressed as:\n",
    "  \n",
    "$D(x; \\theta) : \\mathbb{R}^m \\times \\Theta \\rightarrow [0, 1]$\n",
    "\n",
    "where $\\Theta$ represents the parameter space. The output of a desirability function is typically normalized to the range [0, 1], where 0 represents the least desirable outcome and 1 represents the most desirable outcome.\n",
    "\n",
    "## API Description\n",
    "\n",
    "PUMAS includes a family of desirability functions implemented as a set of parameterized strategies. The implementation requires two steps to use a desirability function:\n",
    "\n",
    "1. **Initialization**: The strategy is initialized with the shape parameters $\\theta$.\n",
    "\n",
    "   ```python\n",
    "   desirability_instance = desirability_class(params=shape_parameters)\n",
    "   ```\n",
    "\n",
    "2. **Computation**: The desirability function is computed for a given input $x$.\n",
    "\n",
    "   ```python\n",
    "   y = desirability_instance(x=x_input)\n",
    "   ```\n",
    "\n",
    "Once initialized, the desirability function can be applied to multiple inputs while maintaining its overall functional shape.\n",
    "\n",
    "## Implementation Details\n",
    "\n",
    "This implementation strikes a balance between flexibility and standardization, facilitating easy extension of the desirability function family with new members that may require different parameters but operate on the same input space.\n",
    "\n",
    "While the `compute` method remains consistent across all members of the family, the parameters vary for each function. This variability presents a known challenge in the parameterized strategy pattern, as it necessitates that the user or software interacts with a variable API. Traditionally, this issue is addressed by coupling a data model for parameters to the respective strategy.\n",
    "\n",
    "Our implementation, however, offers an innovative approach based on self-discovery and validation. Each desirability function in our framework:\n",
    "\n",
    "1. Exposes a detailed description of its required parameters\n",
    "2. Embeds reasonable default values where possible\n",
    "3. Defines acceptable ranges for parameters when appropriate\n",
    "\n",
    "Furthermore, the input parameter values are validated against this internal definition, raising descriptive error messages when requirements are not met. This approach can be formalized as follows:\n",
    "\n",
    "Let $F$ be the set of all desirability functions in our family. For each function $D \\in F$, we define:\n",
    "\n",
    "$\\text{parameters}(D) = \\{\\theta_1, \\theta_2, ..., \\theta_n\\}$\n",
    "\n",
    "Where each specific parameter $\\theta_i$ is defined by a tuple. In the case of numeric *float* parameters, this tuple is:\n",
    "\n",
    "$\\theta_i = (\\text{name}, \\text{type}, \\text{default}, \\text{range})$\n",
    "\n",
    "The validation process for a given input parameter set $\\theta$ can be represented as:\n",
    "\n",
    "$\\text{validate}(D, \\theta) = \\begin{cases} \n",
    "      \\text{True } & \\text{if } \\forall \\theta_i \\in \\text{parameters}(D), \\theta_i \\in \\text{range}(\\theta_i) \\\\\n",
    "      \\text{False } & \\text{otherwise}\n",
    "   \\end{cases}$\n",
    "\n",
    "Where $\\text{range}(\\theta_i)$ represents the valid range for parameter $\\theta_i$.  \n",
    "\n",
    "The parameter definition and validation procedure differ for other types of parameters, such as *integer*, *boolean*, *str*, *iterable*, and *mapping*.\n",
    "\n",
    "This self-discovery and validation mechanism enhances the robustness and usability of our desirability function framework, allowing for more intuitive and error-resistant implementation in various optimization scenarios.\n"
   ]
  },
  {
   "metadata": {},
   "cell_type": "markdown",
   "source": "## Code Examples",
   "id": "f57e7736f34d5b24"
  },
  {
   "cell_type": "code",
   "id": "initial_id",
   "metadata": {
    "ExecuteTime": {
     "end_time": "2025-03-13T19:05:08.859742Z",
     "start_time": "2025-03-13T19:05:08.839776Z"
    }
   },
   "source": [
    "# import the library and print the version\n",
    "import pumas\n",
    "print(pumas.__version__)"
   ],
   "outputs": [
    {
     "name": "stdout",
     "output_type": "stream",
     "text": [
      "0.0.0\n"
     ]
    }
   ],
   "execution_count": 15
  },
  {
   "metadata": {},
   "cell_type": "markdown",
   "source": [
    "### Discover available desirability functions\n",
    "A catalogue contains all the desirability functions implemented in PUMAS.   \n",
    "The catalogue can be extended by registering into it new classes that adhere to the Desirability interface. "
   ],
   "id": "2399563964de036f"
  },
  {
   "cell_type": "code",
   "id": "75f8a5433aad4143",
   "metadata": {
    "ExecuteTime": {
     "end_time": "2025-03-13T19:09:22.926341Z",
     "start_time": "2025-03-13T19:09:22.919341Z"
    }
   },
   "source": [
    "from pumas.desirability import desirability_catalogue\n",
    "desirability_catalogue.list_items()"
   ],
   "outputs": [
    {
     "data": {
      "text/plain": [
       "['sigmoid',\n",
       " 'double_sigmoid',\n",
       " 'bell',\n",
       " 'sigmoid_bell',\n",
       " 'multistep',\n",
       " 'leftstep',\n",
       " 'rightstep',\n",
       " 'step',\n",
       " 'value_mapping']"
      ]
     },
     "execution_count": 16,
     "metadata": {},
     "output_type": "execute_result"
    }
   ],
   "execution_count": 16
  },
  {
   "cell_type": "markdown",
   "id": "b03440ec8df1d5fc",
   "metadata": {},
   "source": "The catalogue yields a desirability function class, not an instance."
  },
  {
   "cell_type": "code",
   "id": "4638ec3ec5b7e914",
   "metadata": {
    "ExecuteTime": {
     "end_time": "2025-03-13T19:12:21.093234Z",
     "start_time": "2025-03-13T19:12:21.084234Z"
    }
   },
   "source": [
    "desirability_class = desirability_catalogue.get(\"sigmoid\")"
   ],
   "outputs": [],
   "execution_count": 17
  },
  {
   "cell_type": "markdown",
   "id": "fb82d5eeb5ea8585",
   "metadata": {},
   "source": [
    "## Initialize and use a desirability function\n",
    "The instantiation requires a number of parameters."
   ]
  },
  {
   "cell_type": "code",
   "id": "cdbcfdd1e816500e",
   "metadata": {
    "ExecuteTime": {
     "end_time": "2025-03-13T19:16:12.435071Z",
     "start_time": "2025-03-13T19:16:12.421044Z"
    }
   },
   "source": [
    "desirability_instance = desirability_class(params={\"low\": 0.0, \"high\": 1.0, \"k\": 0.1, \"shift\": 0.0, \"base\": 10.0})"
   ],
   "outputs": [],
   "execution_count": 18
  },
  {
   "metadata": {},
   "cell_type": "markdown",
   "source": "Once properly instantiated, the desirability function can be used to calculate desirability scores.",
   "id": "ee2bb60a867e9718"
  },
  {
   "metadata": {
    "ExecuteTime": {
     "end_time": "2025-03-13T19:16:53.193247Z",
     "start_time": "2025-03-13T19:16:53.186247Z"
    }
   },
   "cell_type": "code",
   "source": [
    "result = desirability_instance.compute_numeric(x=0.5)\n",
    "print(f\"The desirability score is {result}\")"
   ],
   "id": "cbb8b501523150eb",
   "outputs": [
    {
     "name": "stdout",
     "output_type": "stream",
     "text": [
      "The desirability score is 0.5\n"
     ]
    }
   ],
   "execution_count": 21
  },
  {
   "metadata": {},
   "cell_type": "markdown",
   "source": "The initialized desirability function can be used on multiple input",
   "id": "4bcb44d953865819"
  },
  {
   "metadata": {
    "ExecuteTime": {
     "end_time": "2025-03-13T19:27:16.258340Z",
     "start_time": "2025-03-13T19:27:16.249342Z"
    }
   },
   "cell_type": "code",
   "source": [
    "input_list = [x / 10.0 for x in range(1, 10, 1)]\n",
    "result_list = [desirability_instance.compute_numeric(x=x) for x in input_list]\n",
    "for x, y in zip(input_list,result_list):\n",
    "    print(f\"D({x:.2f}) = {y:.2f}\")"
   ],
   "id": "dc51c1e2eee33b1b",
   "outputs": [
    {
     "name": "stdout",
     "output_type": "stream",
     "text": [
      "D(0.10) = 0.28\n",
      "D(0.20) = 0.33\n",
      "D(0.30) = 0.39\n",
      "D(0.40) = 0.44\n",
      "D(0.50) = 0.50\n",
      "D(0.60) = 0.56\n",
      "D(0.70) = 0.61\n",
      "D(0.80) = 0.67\n",
      "D(0.90) = 0.72\n"
     ]
    }
   ],
   "execution_count": 29
  },
  {
   "cell_type": "markdown",
   "id": "bea2690103fedf15",
   "metadata": {},
   "source": [
    "### Discover Parameters\n",
    "If the nature of the parameters for a given desirability function is not known it is possible to discover them.  \n",
    "It is possible to instantiate a desirability function without any parameters.   \n",
    "This object is not ready to compute a score, but it offers a detailed description of the required parameters."
   ]
  },
  {
   "cell_type": "code",
   "id": "5f3a1bfb4a7c398",
   "metadata": {
    "ExecuteTime": {
     "end_time": "2025-03-13T19:36:38.524489Z",
     "start_time": "2025-03-13T19:36:38.519487Z"
    }
   },
   "source": [
    "desirability_class = desirability_catalogue.get(\"sigmoid\")\n",
    "desirability_instance_blank = desirability_class()"
   ],
   "outputs": [],
   "execution_count": 32
  },
  {
   "metadata": {},
   "cell_type": "markdown",
   "source": [
    "Depending on the individual desirability function some parameters default to a reasonable value. \n",
    "Other parameters default to None: it is mandatory to set them with an appropriate value.  "
   ],
   "id": "31fe27075dcb41ef"
  },
  {
   "metadata": {},
   "cell_type": "markdown",
   "source": [
    "The parameters_map attribute contains a detailed overview of the parameters, including their type, and attributes.\n",
    "This map can guide the setting of appropriate parameter values."
   ],
   "id": "37a1efaaad8306d4"
  },
  {
   "metadata": {
    "ExecuteTime": {
     "end_time": "2025-03-13T19:38:58.756572Z",
     "start_time": "2025-03-13T19:38:58.749571Z"
    }
   },
   "cell_type": "code",
   "source": "desirability_instance_blank.parameters_map",
   "id": "2634a0b8eb5d19cf",
   "outputs": [
    {
     "data": {
      "text/plain": [
       "{'low': FloatParameter(name='low', default=None, min=-inf, max=inf),\n",
       " 'high': FloatParameter(name='high', default=None, min=-inf, max=inf),\n",
       " 'k': FloatParameter(name='k', default=0.5, min=-1.0, max=1.0),\n",
       " 'base': FloatParameter(name='base', default=10.0, min=1.0, max=10.0),\n",
       " 'shift': FloatParameter(name='shift', default=0.0, min=0.0, max=1.0)}"
      ]
     },
     "execution_count": 35,
     "metadata": {},
     "output_type": "execute_result"
    }
   ],
   "execution_count": 35
  },
  {
   "metadata": {},
   "cell_type": "markdown",
   "source": "An overview of the current value of each parameter is available. ",
   "id": "894f572830c44860"
  },
  {
   "metadata": {
    "ExecuteTime": {
     "end_time": "2025-03-13T19:45:14.808975Z",
     "start_time": "2025-03-13T19:45:14.795873Z"
    }
   },
   "cell_type": "code",
   "source": "print(desirability_instance_blank.get_parameters_values())",
   "id": "7db508e86f0bcdac",
   "outputs": [
    {
     "name": "stdout",
     "output_type": "stream",
     "text": [
      "{'low': None, 'high': None, 'k': 0.5, 'base': 10.0, 'shift': 0.0}\n"
     ]
    }
   ],
   "execution_count": 36
  },
  {
   "cell_type": "markdown",
   "id": "7ec5a8e7efd90255",
   "metadata": {},
   "source": [
    "Once the type and attributes of parameters is known, it is possible to set the desired parameter values directly on the blank instance as an alternative to instantiate another object. This represents a slightly faster alternative to instantiating a new object.  \n",
    "In either case the current state of the parameters reflect the input. \n"
   ]
  },
  {
   "cell_type": "code",
   "id": "155d1b5029c304f",
   "metadata": {
    "ExecuteTime": {
     "end_time": "2025-03-13T19:45:24.510489Z",
     "start_time": "2025-03-13T19:45:24.492599Z"
    }
   },
   "source": [
    "desirability_instance_blank.set_parameters_values(\n",
    "    {\"low\": 0.0, \"high\": 1.0, \"k\": 0.1, \"shift\": 0.0, \"base\": 10.0}\n",
    ")\n",
    "print(desirability_instance_blank.get_parameters_values())"
   ],
   "outputs": [
    {
     "name": "stdout",
     "output_type": "stream",
     "text": [
      "{'low': 0.0, 'high': 1.0, 'k': 0.1, 'base': 10.0, 'shift': 0.0}\n"
     ]
    }
   ],
   "execution_count": 38
  },
  {
   "metadata": {
    "ExecuteTime": {
     "end_time": "2025-03-13T19:49:36.426720Z",
     "start_time": "2025-03-13T19:49:36.418720Z"
    }
   },
   "cell_type": "code",
   "source": [
    "x= 0.5\n",
    "y = desirability_instance_blank(x=x)\n",
    "print(f\"D({x:.2f}) = {y:.2f}\")"
   ],
   "id": "b0712d84ceec0cb0",
   "outputs": [
    {
     "name": "stdout",
     "output_type": "stream",
     "text": [
      "D(0.50) = 0.50\n"
     ]
    }
   ],
   "execution_count": 39
  },
  {
   "metadata": {},
   "cell_type": "markdown",
   "source": "### Errors while setting parameters",
   "id": "101a674a3af06ca6"
  },
  {
   "metadata": {
    "ExecuteTime": {
     "end_time": "2025-03-13T19:52:38.534313Z",
     "start_time": "2025-03-13T19:52:38.530310Z"
    }
   },
   "cell_type": "code",
   "source": [
    "# missing a mandatory parameter raises an error while executing the computation\n",
    "desirability_instance = desirability_class(params={ \"high\": 1.0, \"k\": 0.1, \"shift\": 0.0, \"base\": 10.0})\n",
    "try:\n",
    "    desirability_instance(x=0.5)\n",
    "except Exception as e:\n",
    "    print(e)"
   ],
   "id": "c75ee4a6cee70be4",
   "outputs": [
    {
     "name": "stdout",
     "output_type": "stream",
     "text": [
      "All parameters must be set (non-None) before computation. Please set the value of ['low']\n"
     ]
    }
   ],
   "execution_count": 42
  },
  {
   "metadata": {
    "ExecuteTime": {
     "end_time": "2025-03-13T19:56:01.767733Z",
     "start_time": "2025-03-13T19:56:01.748720Z"
    }
   },
   "cell_type": "code",
   "source": [
    "# providing a wrong type raises an error during initialization\n",
    "try:\n",
    "    desirability_instance = desirability_class(params={ \"low\": 0, \"high\": 1.0, \"k\": 0.1, \"shift\": 0.0, \"base\": 10.0})\n",
    "except Exception as e:\n",
    "    print(e)"
   ],
   "id": "cd39ee7e9faac6bb",
   "outputs": [
    {
     "name": "stdout",
     "output_type": "stream",
     "text": [
      "Error in parameter 'low': Expected type float, got int instead.\n"
     ]
    }
   ],
   "execution_count": 45
  },
  {
   "metadata": {
    "ExecuteTime": {
     "end_time": "2025-03-13T19:56:15.978142Z",
     "start_time": "2025-03-13T19:56:15.962119Z"
    }
   },
   "cell_type": "code",
   "source": [
    "# providing a value outside the range raises an error during initialization\n",
    "try:\n",
    "    desirability_instance = desirability_class(params={ \"low\": 0.0, \"high\": 1.0, \"k\": 0.1, \"shift\": 10.0, \"base\": 10.0})\n",
    "except Exception as e:\n",
    "    print(e)"
   ],
   "id": "e5c73992e0d0cd67",
   "outputs": [
    {
     "name": "stdout",
     "output_type": "stream",
     "text": [
      "Error in parameter 'shift': Parameter Value 10.0 is outside the allowed range [0.0, 1.0].\n"
     ]
    }
   ],
   "execution_count": 47
  },
  {
   "metadata": {},
   "cell_type": "markdown",
   "source": "### Errors while providing input",
   "id": "3fa9091b20f7dcf5"
  },
  {
   "metadata": {
    "ExecuteTime": {
     "end_time": "2025-03-13T20:49:10.072930Z",
     "start_time": "2025-03-13T20:49:10.059931Z"
    }
   },
   "cell_type": "code",
   "source": [
    "# providing the wrong type: str instead of float\n",
    "desirability_instance = desirability_class(params={ \"low\": 0.0, \"high\": 1.0, \"k\": 0.1, \"shift\": 0.0, \"base\": 10.0})\n",
    "try:\n",
    "    desirability_instance(x=\"0.5\")\n",
    "except Exception as e:\n",
    "    print(e)"
   ],
   "id": "6265393beb694c33",
   "outputs": [
    {
     "name": "stdout",
     "output_type": "stream",
     "text": [
      "Expected float, got str instead.\n"
     ]
    }
   ],
   "execution_count": 49
  },
  {
   "metadata": {
    "ExecuteTime": {
     "end_time": "2025-03-13T20:50:04.033919Z",
     "start_time": "2025-03-13T20:50:04.024919Z"
    }
   },
   "cell_type": "code",
   "source": [
    "# providing the wrong type:  int instead of float\n",
    "desirability_instance = desirability_class(params={ \"low\": 0.0, \"high\": 1.0, \"k\": 0.1, \"shift\": 0.0, \"base\": 10.0})\n",
    "try:\n",
    "    desirability_instance(x=5)\n",
    "except Exception as e:\n",
    "    print(e)"
   ],
   "id": "5439e0b1b951505a",
   "outputs": [
    {
     "name": "stdout",
     "output_type": "stream",
     "text": [
      "Expected float, got int instead.\n"
     ]
    }
   ],
   "execution_count": 50
  },
  {
   "metadata": {
    "ExecuteTime": {
     "end_time": "2025-03-13T20:50:49.565887Z",
     "start_time": "2025-03-13T20:50:49.556837Z"
    }
   },
   "cell_type": "code",
   "source": [
    "# providing the wrong type: list instead of float\n",
    "desirability_instance = desirability_class(params={ \"low\": 0.0, \"high\": 1.0, \"k\": 0.1, \"shift\": 0.0, \"base\": 10.0})\n",
    "try:\n",
    "    desirability_instance(x=[0.5])\n",
    "except Exception as e:\n",
    "    print(e)"
   ],
   "id": "8b1502439bd38fe1",
   "outputs": [
    {
     "name": "stdout",
     "output_type": "stream",
     "text": [
      "Expected float, got list instead.\n"
     ]
    }
   ],
   "execution_count": 51
  }
 ],
 "metadata": {
  "kernelspec": {
   "display_name": "Python 3 (ipykernel)",
   "language": "python",
   "name": "python3"
  },
  "language_info": {
   "codemirror_mode": {
    "name": "ipython",
    "version": 3
   },
   "file_extension": ".py",
   "mimetype": "text/x-python",
   "name": "python",
   "nbconvert_exporter": "python",
   "pygments_lexer": "ipython3",
   "version": "3.9.21"
  }
 },
 "nbformat": 4,
 "nbformat_minor": 5
}
