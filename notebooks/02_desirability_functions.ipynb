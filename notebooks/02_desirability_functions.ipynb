{
 "cells": [
  {
   "cell_type": "code",
   "id": "initial_id",
   "metadata": {
    "collapsed": true,
    "ExecuteTime": {
     "end_time": "2024-10-17T10:01:43.700857Z",
     "start_time": "2024-10-17T10:01:43.694945Z"
    }
   },
   "source": [
    "import pumas\n",
    "from pumas.desirability import desirability_catalogue"
   ],
   "outputs": [],
   "execution_count": 4
  },
  {
   "metadata": {},
   "cell_type": "markdown",
   "source": "After the necessary imports, we can check the version of the `mpstk` package. ",
   "id": "f9d7e3a4d27ac3b9"
  },
  {
   "metadata": {
    "ExecuteTime": {
     "end_time": "2024-10-17T10:00:58.967868Z",
     "start_time": "2024-10-17T10:00:58.948399Z"
    }
   },
   "cell_type": "code",
   "source": "print(pumas.__version__)",
   "id": "5df0fb7ef8928ab6",
   "outputs": [
    {
     "name": "stdout",
     "output_type": "stream",
     "text": [
      "0.0.0\n"
     ]
    }
   ],
   "execution_count": 2
  },
  {
   "metadata": {},
   "cell_type": "markdown",
   "source": "## Desirability Functions",
   "id": "e2c610fb95d9ffc3"
  },
  {
   "metadata": {},
   "cell_type": "markdown",
   "source": [
    "Le's check the available desirability functions in the catalogue.\n",
    "The output is a list of strings, each string is the name of a desirability function, that can be used to create an instance of the corresponding class."
   ],
   "id": "916da7f0b8e967cf"
  },
  {
   "metadata": {
    "ExecuteTime": {
     "end_time": "2024-12-09T08:56:00.433562Z",
     "start_time": "2024-12-09T08:56:00.142174Z"
    }
   },
   "cell_type": "code",
   "source": "desirability_catalogue.list_items()",
   "id": "75f8a5433aad4143",
   "outputs": [
    {
     "ename": "NameError",
     "evalue": "name 'desirability_catalogue' is not defined",
     "output_type": "error",
     "traceback": [
      "\u001b[1;31m---------------------------------------------------------------------------\u001b[0m",
      "\u001b[1;31mNameError\u001b[0m                                 Traceback (most recent call last)",
      "Cell \u001b[1;32mIn[1], line 1\u001b[0m\n\u001b[1;32m----> 1\u001b[0m \u001b[43mdesirability_catalogue\u001b[49m\u001b[38;5;241m.\u001b[39mlist_items()\n",
      "\u001b[1;31mNameError\u001b[0m: name 'desirability_catalogue' is not defined"
     ]
    }
   ],
   "execution_count": 1
  },
  {
   "metadata": {},
   "cell_type": "markdown",
   "source": [
    "We can use the catalogue to create an instance of a desirability function.\n",
    "The catalogue returns a class, and we can create an instance of this class by calling it.\n",
    "This approach allows us to create an instance of a desirability function without importing the class directly."
   ],
   "id": "b03440ec8df1d5fc"
  },
  {
   "metadata": {
    "ExecuteTime": {
     "end_time": "2024-09-26T11:44:40.815160Z",
     "start_time": "2024-09-26T11:44:40.775112Z"
    }
   },
   "cell_type": "code",
   "source": [
    "desirability_class = desirability_catalogue.get(\"sigmoid\")\n",
    "desirability = desirability_class()"
   ],
   "id": "4638ec3ec5b7e914",
   "outputs": [],
   "execution_count": 15
  },
  {
   "metadata": {},
   "cell_type": "markdown",
   "source": [
    "If we want to see the documentation of the class, we can use the `help` function.\n",
    "This function will display the docstring of the class, which contains information about the class and its methods."
   ],
   "id": "ac01950150a567cc"
  },
  {
   "metadata": {
    "ExecuteTime": {
     "end_time": "2024-09-25T22:32:57.650564Z",
     "start_time": "2024-09-25T22:32:57.636566Z"
    }
   },
   "cell_type": "code",
   "source": "help(desirability)",
   "id": "b4bf7132e64f9af5",
   "outputs": [
    {
     "name": "stdout",
     "output_type": "stream",
     "text": [
      "Help on SigmoidDesirability in module mpstk.desirability.desirability object:\n",
      "\n",
      "class SigmoidDesirability(BaseDesirability)\n",
      " |  The class :class:`SigmoidDesirability<mpstk.desirability.desirability.SigmoidDesirability>` implements a sigmoid desirability function.\n",
      " |  \n",
      " |  It implements the definition of input and coefficient parameters.\n",
      " |  \n",
      " |  This class wraps the sigmoid utility function and implements the interface to use it, identifying\n",
      " |      * input parameters: 'x'\n",
      " |      * coefficient parameters: 'low', 'high', 'k', 'base' and 'shift'.\n",
      " |  \n",
      " |  The sigmoid function has a flexible curve that is controlled by its parameters\n",
      " |  and can be used to model scenarios where desirability transitions smoothly\n",
      " |  between low and high values.\n",
      " |  \n",
      " |  Upon initialization, the attributes of some coefficient parameters are set to\n",
      " |  reasonable defaults, which can be changed by the user.\n",
      " |  \n",
      " |  \n",
      " |  Usage Example:\n",
      " |  \n",
      " |  >>> from mpstk.desirability.desirability import SigmoidDesirability\n",
      " |  >>> desirability = SigmoidDesirability()\n",
      " |  >>> # print the default values of the coefficient parameters\n",
      " |  >>> print(desirability.get_coefficient_parameters_values())\n",
      " |  {'low': None, 'high': None, 'k': 0.5, 'base': 10.0, 'shift': 0.0}\n",
      " |  >>> desirability.set_coefficient_parameters_values({'low': 0.0, 'high': 1.0,\n",
      " |  ...                                                 'k': 0.1,\n",
      " |  ...                                                 'shift': 0.0,\n",
      " |  ...                                                 'base': 10.\n",
      " |  ...                                                })\n",
      " |  >>> print(desirability.get_coefficient_parameters_values())\n",
      " |  {'low': 0.0, 'high': 1.0, 'k': 0.1, 'base': 10.0, 'shift': 0.0}\n",
      " |  >>> result = desirability.compute_score(x=0.5)\n",
      " |  >>> print(result)\n",
      " |  0.5\n",
      " |  \n",
      " |  Method resolution order:\n",
      " |      SigmoidDesirability\n",
      " |      BaseDesirability\n",
      " |      mpstk.architecture.parametrized_strategy.AbstractParametrizedStrategy\n",
      " |      abc.ABC\n",
      " |      builtins.object\n",
      " |  \n",
      " |  Methods defined here:\n",
      " |  \n",
      " |  __init__(self)\n",
      " |      Initializes the SigmoidDesirability with predefined parameter names\n",
      " |      and the sigmoid utility function.\n",
      " |  \n",
      " |  ----------------------------------------------------------------------\n",
      " |  Data and other attributes defined here:\n",
      " |  \n",
      " |  __abstractmethods__ = frozenset()\n",
      " |  \n",
      " |  ----------------------------------------------------------------------\n",
      " |  Methods inherited from BaseDesirability:\n",
      " |  \n",
      " |  compute_score(self, x: float) -> float\n",
      " |  \n",
      " |  compute_uscore(self, x: uncertainties.core.AffineScalarFunc) -> uncertainties.core.AffineScalarFunc\n",
      " |  \n",
      " |  ----------------------------------------------------------------------\n",
      " |  Methods inherited from mpstk.architecture.parametrized_strategy.AbstractParametrizedStrategy:\n",
      " |  \n",
      " |  get_coefficient_parameters_values(self) -> Dict[str, Any]\n",
      " |      Retrieves the current values of all coefficient parameters.\n",
      " |      \n",
      " |      This method iterates over the coefficient parameters map and\n",
      " |      compiles a dictionary\n",
      " |      with parameter names as keys and their corresponding current values.\n",
      " |      If a parameter value is not yet set, it will be `None`.\n",
      " |      \n",
      " |      Note: The returned dictionary will include all coefficient parameter names\n",
      " |      defined during initialization regardless of whether their values have been set.\n",
      " |      \n",
      " |      Returns:\n",
      " |          Dict[str, Any]: A dictionary mapping each coefficient parameter name to its\n",
      " |          current value (or `None` if not set).\n",
      " |      \n",
      " |      Usage:\n",
      " |          coefficients = desirability_object.get_coefficient_parameters_values()\n",
      " |  \n",
      " |  set_coefficient_parameters_attributes(self, attributes_map: Dict[str, Dict[str, Any]]) -> None\n",
      " |      Sets attributes for the coefficient parameters of the utility function.\n",
      " |      # Set the values of the parameters through the parameter manager\n",
      " |  \n",
      " |  set_coefficient_parameters_values(self, values_dict: Dict[str, Any])\n",
      " |      Sets values for the coefficient parameters of the utility function.\n",
      " |      \n",
      " |      This method takes a dictionary of coefficient parameter names and values\n",
      " |      and sets those values in the respective Parameter objects. If a parameter name\n",
      " |      provided does not exist, a ParameterSettingError is raised.\n",
      " |      Additionally, it warns if provided values do not modify\n",
      " |      all coefficient parameters.\n",
      " |      \n",
      " |      Args:\n",
      " |          values_dict (Dict[str, Any]): A dictionary mapping parameter names to\n",
      " |              their desired values. Each key-value pair corresponds\n",
      " |              to a parameter name and the value to set for it.\n",
      " |      \n",
      " |      Raises:\n",
      " |          ParameterSettingError: If a parameter in\n",
      " |              `values_dict` does not correspond to\n",
      " |              any known coefficient parameter.\n",
      " |          ParameterDefinitionError: Potentially raised by internal methods if\n",
      " |              parameter values are not consistent with parameter definitions.\n",
      " |      \n",
      " |      Warnings:\n",
      " |          ParameterSettingWarning: This is issued if there are coefficient parameters\n",
      " |              that are not being modified.\n",
      " |  \n",
      " |  ----------------------------------------------------------------------\n",
      " |  Readonly properties inherited from mpstk.architecture.parametrized_strategy.AbstractParametrizedStrategy:\n",
      " |  \n",
      " |  coefficient_parameters_map\n",
      " |  \n",
      " |  coefficient_parameters_names\n",
      " |      Returns the list of names of coefficient parameters.\n",
      " |  \n",
      " |  input_parameters_map\n",
      " |  \n",
      " |  input_parameters_names\n",
      " |      Returns the list of names of input parameters.\n",
      " |  \n",
      " |  parameters_map\n",
      " |      Returns the dictionary of parameter names and Parameter objects.\n",
      " |  \n",
      " |  ----------------------------------------------------------------------\n",
      " |  Data descriptors inherited from mpstk.architecture.parametrized_strategy.AbstractParametrizedStrategy:\n",
      " |  \n",
      " |  __dict__\n",
      " |      dictionary for instance variables (if defined)\n",
      " |  \n",
      " |  __weakref__\n",
      " |      list of weak references to the object (if defined)\n",
      "\n"
     ]
    }
   ],
   "execution_count": 6
  },
  {
   "metadata": {},
   "cell_type": "markdown",
   "source": [
    "Before using the desirability function, we need to set the parameters of the function.\n",
    "We obtain a list of the parameters that the function needs by calling the `get_coefficient_parameters_values` method.  \n",
    "The output is a dictionary, where the keys are the names of the parameters, and the values are the default values of the parameters.  \n",
    "Some of the parameters are optional, and they have a default value.   \n",
    "Some parameters have a None value, which means that the user needs to set the value of the parameter.  "
   ],
   "id": "bea2690103fedf15"
  },
  {
   "metadata": {
    "ExecuteTime": {
     "end_time": "2024-09-26T11:44:57.872272Z",
     "start_time": "2024-09-26T11:44:57.851715Z"
    }
   },
   "cell_type": "code",
   "source": "print(desirability.get_coefficient_parameters_values())",
   "id": "5f3a1bfb4a7c398",
   "outputs": [
    {
     "name": "stdout",
     "output_type": "stream",
     "text": [
      "{'low': None, 'high': None, 'k': 0.5, 'base': 10.0, 'shift': 0.0}\n"
     ]
    }
   ],
   "execution_count": 16
  },
  {
   "metadata": {},
   "cell_type": "markdown",
   "source": "We can now set the values of the parameters of the desirability function and ensure that the values are set correctly by calling the `get_coefficient_parameters_values` method.\n",
   "id": "7ec5a8e7efd90255"
  },
  {
   "metadata": {
    "ExecuteTime": {
     "end_time": "2024-09-26T11:45:12.820791Z",
     "start_time": "2024-09-26T11:45:12.803304Z"
    }
   },
   "cell_type": "code",
   "source": [
    "desirability.set_coefficient_parameters_values(\n",
    "    {\"low\": 0.0, \"high\": 1.0, \"k\": 0.1, \"shift\": 0.0, \"base\": 10.0}\n",
    ")\n",
    "\n",
    "print(desirability.get_coefficient_parameters_values())"
   ],
   "id": "155d1b5029c304f",
   "outputs": [
    {
     "name": "stdout",
     "output_type": "stream",
     "text": [
      "{'low': 0.0, 'high': 1.0, 'k': 0.1, 'base': 10.0, 'shift': 0.0}\n"
     ]
    }
   ],
   "execution_count": 17
  },
  {
   "metadata": {},
   "cell_type": "markdown",
   "source": "The desirability function is now ready to be used.",
   "id": "b1d198fb158ed069"
  },
  {
   "metadata": {
    "ExecuteTime": {
     "end_time": "2024-09-26T11:45:18.366564Z",
     "start_time": "2024-09-26T11:45:18.349049Z"
    }
   },
   "cell_type": "code",
   "source": [
    "result = desirability.compute_score(x=0.5)\n",
    "print(result)"
   ],
   "id": "f1bc75bb6272d695",
   "outputs": [
    {
     "name": "stdout",
     "output_type": "stream",
     "text": [
      "0.5\n"
     ]
    }
   ],
   "execution_count": 18
  },
  {
   "metadata": {},
   "cell_type": "raw",
   "source": [
    "We might want to know the type of parameters that the desirability function needs, if there is any acceptable range for the parameters, or if there is a defaults value for the parameters.  \n",
    "To this aim we need to caal the `parameters_map` property, inherited by any `Deisirability` class from the `AbstractParametrizedStrategy` class.\n",
    "The output is a mapping between the name of the parameters and a dictionary containing information about the parameter.   \n",
    "Distinct Parameter types map the propeties of fifferent literal, such as Float, Integer, String, etc.  \n",
    "Each Parameter contains the necessary information to validate the input value, such as the type of the parameter, the default value, and the range of acceptable values, and constitutes a good guildeline to set a vaule for the parameter. \n",
    "\n",
    "We reserve x as the name of the input variable, and we can set the value of x to any value within the range of acceptable values.\n"
   ],
   "id": "3dd8c64cf0e7fa2b"
  },
  {
   "metadata": {
    "ExecuteTime": {
     "end_time": "2024-09-26T11:45:22.805928Z",
     "start_time": "2024-09-26T11:45:22.797930Z"
    }
   },
   "cell_type": "code",
   "source": [
    "pm = desirability.parameters_map\n",
    "print(pm)"
   ],
   "id": "42d92c69fa5927a0",
   "outputs": [
    {
     "name": "stdout",
     "output_type": "stream",
     "text": [
      "{'x': FloatParameter(name='x', default=None, min=None, max=None), 'low': FloatParameter(name='low', default=None, min=None, max=None), 'high': FloatParameter(name='high', default=None, min=None, max=None), 'k': FloatParameter(name='k', default=0.5, min=-1.0, max=1.0), 'shift': FloatParameter(name='shift', default=0.0, min=0.0, max=1.0), 'base': FloatParameter(name='base', default=10.0, min=0.0, max=10.0)}\n"
     ]
    }
   ],
   "execution_count": 19
  }
 ],
 "metadata": {
  "kernelspec": {
   "display_name": "Python 3",
   "language": "python",
   "name": "python3"
  },
  "language_info": {
   "codemirror_mode": {
    "name": "ipython",
    "version": 2
   },
   "file_extension": ".py",
   "mimetype": "text/x-python",
   "name": "python",
   "nbconvert_exporter": "python",
   "pygments_lexer": "ipython2",
   "version": "2.7.6"
  }
 },
 "nbformat": 4,
 "nbformat_minor": 5
}
