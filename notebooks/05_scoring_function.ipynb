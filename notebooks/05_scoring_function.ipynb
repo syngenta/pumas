{
 "cells": [
  {
   "metadata": {},
   "cell_type": "markdown",
   "source": [
    "# Scoring Function\n",
    "A scoring function is a function that takes as input a number of objective values and returns an aggregated desirability score.  \n",
    "The scoring function is dynamically constructed based on a scoring profile, defining the aggregation algorithm, and, for each objective, its desirability function and the required parameters.\n",
    "\n"
   ],
   "id": "e735e4eeefae68e0"
  },
  {
   "metadata": {},
   "cell_type": "markdown",
   "source": "## Code Examples",
   "id": "9e25da42f793d78e"
  },
  {
   "metadata": {
    "ExecuteTime": {
     "end_time": "2025-03-14T08:14:09.718880Z",
     "start_time": "2025-03-14T08:14:09.694881Z"
    }
   },
   "cell_type": "code",
   "source": [
    "# import the library and print the version\n",
    "import pumas\n",
    "print(pumas.__version__)"
   ],
   "id": "156fd7de20a70d39",
   "outputs": [
    {
     "name": "stdout",
     "output_type": "stream",
     "text": [
      "0.0.0\n"
     ]
    }
   ],
   "execution_count": 1
  },
  {
   "metadata": {},
   "cell_type": "markdown",
   "source": "### Prepare a Scoring Profile\n",
   "id": "5c9d03c10e888f3c"
  },
  {
   "metadata": {},
   "cell_type": "code",
   "source": [
    "import json\n",
    "\n",
    "with open(\"data/quality_efficiency_cost/scoring_profile.json\", 'r') as file:\n",
    "    scoring_profile_dict = json.load(file)"
   ],
   "id": "ee110e397a148c48",
   "outputs": [],
   "execution_count": null
  },
  {
   "metadata": {
    "ExecuteTime": {
     "end_time": "2025-03-14T08:07:53.332395Z",
     "start_time": "2025-03-14T08:07:53.302397Z"
    }
   },
   "cell_type": "code",
   "source": [
    "from pumas.scoring_profile.scoring_profile import ScoringProfile\n",
    "scoring_profile = ScoringProfile.model_validate(scoring_profile_dict)"
   ],
   "id": "f6fab1da529d3701",
   "outputs": [
    {
     "ename": "ValidationError",
     "evalue": "6 validation errors for ScoringProfile\nobjectives.0.value_type\n  Field required [type=missing, input_value={'name': 'quality', 'desi...: 10.0}}, 'weight': 1.0}, input_type=dict]\n    For further information visit https://errors.pydantic.dev/2.10/v/missing\nobjectives.0.kind\n  Field required [type=missing, input_value={'name': 'quality', 'desi...: 10.0}}, 'weight': 1.0}, input_type=dict]\n    For further information visit https://errors.pydantic.dev/2.10/v/missing\nobjectives.1.value_type\n  Field required [type=missing, input_value={'name': 'efficiency', 'd...: 10.0}}, 'weight': 2.0}, input_type=dict]\n    For further information visit https://errors.pydantic.dev/2.10/v/missing\nobjectives.1.kind\n  Field required [type=missing, input_value={'name': 'efficiency', 'd...: 10.0}}, 'weight': 2.0}, input_type=dict]\n    For further information visit https://errors.pydantic.dev/2.10/v/missing\nobjectives.2.value_type\n  Field required [type=missing, input_value={'name': 'cost', 'desirab...: 10.0}}, 'weight': 3.0}, input_type=dict]\n    For further information visit https://errors.pydantic.dev/2.10/v/missing\nobjectives.2.kind\n  Field required [type=missing, input_value={'name': 'cost', 'desirab...: 10.0}}, 'weight': 3.0}, input_type=dict]\n    For further information visit https://errors.pydantic.dev/2.10/v/missing",
     "output_type": "error",
     "traceback": [
      "\u001B[1;31m---------------------------------------------------------------------------\u001B[0m",
      "\u001B[1;31mValidationError\u001B[0m                           Traceback (most recent call last)",
      "Cell \u001B[1;32mIn[4], line 2\u001B[0m\n\u001B[0;32m      1\u001B[0m \u001B[38;5;28;01mfrom\u001B[39;00m\u001B[38;5;250m \u001B[39m\u001B[38;5;21;01mpumas\u001B[39;00m\u001B[38;5;21;01m.\u001B[39;00m\u001B[38;5;21;01mscoring_profile\u001B[39;00m\u001B[38;5;21;01m.\u001B[39;00m\u001B[38;5;21;01mscoring_profile\u001B[39;00m\u001B[38;5;250m \u001B[39m\u001B[38;5;28;01mimport\u001B[39;00m ScoringProfile\n\u001B[1;32m----> 2\u001B[0m scoring_profile \u001B[38;5;241m=\u001B[39m \u001B[43mScoringProfile\u001B[49m\u001B[38;5;241;43m.\u001B[39;49m\u001B[43mmodel_validate\u001B[49m\u001B[43m(\u001B[49m\u001B[43mscoring_profile_dict\u001B[49m\u001B[43m)\u001B[49m\n",
      "File \u001B[1;32m~\\AppData\\Local\\miniforge3\\envs\\pumas\\lib\\site-packages\\pydantic\\main.py:627\u001B[0m, in \u001B[0;36mBaseModel.model_validate\u001B[1;34m(cls, obj, strict, from_attributes, context)\u001B[0m\n\u001B[0;32m    625\u001B[0m \u001B[38;5;66;03m# `__tracebackhide__` tells pytest and some other tools to omit this function from tracebacks\u001B[39;00m\n\u001B[0;32m    626\u001B[0m __tracebackhide__ \u001B[38;5;241m=\u001B[39m \u001B[38;5;28;01mTrue\u001B[39;00m\n\u001B[1;32m--> 627\u001B[0m \u001B[38;5;28;01mreturn\u001B[39;00m \u001B[38;5;28;43mcls\u001B[39;49m\u001B[38;5;241;43m.\u001B[39;49m\u001B[43m__pydantic_validator__\u001B[49m\u001B[38;5;241;43m.\u001B[39;49m\u001B[43mvalidate_python\u001B[49m\u001B[43m(\u001B[49m\n\u001B[0;32m    628\u001B[0m \u001B[43m    \u001B[49m\u001B[43mobj\u001B[49m\u001B[43m,\u001B[49m\u001B[43m \u001B[49m\u001B[43mstrict\u001B[49m\u001B[38;5;241;43m=\u001B[39;49m\u001B[43mstrict\u001B[49m\u001B[43m,\u001B[49m\u001B[43m \u001B[49m\u001B[43mfrom_attributes\u001B[49m\u001B[38;5;241;43m=\u001B[39;49m\u001B[43mfrom_attributes\u001B[49m\u001B[43m,\u001B[49m\u001B[43m \u001B[49m\u001B[43mcontext\u001B[49m\u001B[38;5;241;43m=\u001B[39;49m\u001B[43mcontext\u001B[49m\n\u001B[0;32m    629\u001B[0m \u001B[43m\u001B[49m\u001B[43m)\u001B[49m\n",
      "\u001B[1;31mValidationError\u001B[0m: 6 validation errors for ScoringProfile\nobjectives.0.value_type\n  Field required [type=missing, input_value={'name': 'quality', 'desi...: 10.0}}, 'weight': 1.0}, input_type=dict]\n    For further information visit https://errors.pydantic.dev/2.10/v/missing\nobjectives.0.kind\n  Field required [type=missing, input_value={'name': 'quality', 'desi...: 10.0}}, 'weight': 1.0}, input_type=dict]\n    For further information visit https://errors.pydantic.dev/2.10/v/missing\nobjectives.1.value_type\n  Field required [type=missing, input_value={'name': 'efficiency', 'd...: 10.0}}, 'weight': 2.0}, input_type=dict]\n    For further information visit https://errors.pydantic.dev/2.10/v/missing\nobjectives.1.kind\n  Field required [type=missing, input_value={'name': 'efficiency', 'd...: 10.0}}, 'weight': 2.0}, input_type=dict]\n    For further information visit https://errors.pydantic.dev/2.10/v/missing\nobjectives.2.value_type\n  Field required [type=missing, input_value={'name': 'cost', 'desirab...: 10.0}}, 'weight': 3.0}, input_type=dict]\n    For further information visit https://errors.pydantic.dev/2.10/v/missing\nobjectives.2.kind\n  Field required [type=missing, input_value={'name': 'cost', 'desirab...: 10.0}}, 'weight': 3.0}, input_type=dict]\n    For further information visit https://errors.pydantic.dev/2.10/v/missing"
     ]
    }
   ],
   "execution_count": 4
  },
  {
   "metadata": {},
   "cell_type": "markdown",
   "source": [
    "### Prepare the data\n",
    "The data_payload is a dictionary. Each item corresponds to an object to score.\n",
    "The key of each item is a unique identifier of the object; it will be used to report the results.\n",
    "The value of each item is a dictionary pf properties, where the key is the property name and the value is the property value."
   ],
   "id": "ef5f35a946be51d1"
  },
  {
   "metadata": {
    "ExecuteTime": {
     "end_time": "2025-03-14T08:08:17.087406Z",
     "start_time": "2025-03-14T08:08:17.073409Z"
    }
   },
   "cell_type": "code",
   "source": [
    "import json\n",
    "\n",
    "with open(\"data/quality_efficiency_cost/data_payload.json\", 'r') as file:\n",
    "    data_payload = json.load(file)\n"
   ],
   "id": "14afd251318b0af2",
   "outputs": [
    {
     "name": "stdout",
     "output_type": "stream",
     "text": [
      "{'A': {'quality': 1.0, 'cost': 30.0, 'efficiency': 0.7}, 'B': {'quality': 5.0, 'cost': 40.0, 'efficiency': 0.2}, 'C': {'quality': 3.0, 'cost': 10.0, 'efficiency': 0.9}, 'D': {'quality': 6.0, 'cost': 60.0, 'efficiency': 0.4}, 'E': {'quality': 2.0, 'cost': 80.0, 'efficiency': 0.5}}\n"
     ]
    }
   ],
   "execution_count": 7
  },
  {
   "metadata": {
    "ExecuteTime": {
     "end_time": "2025-03-14T08:07:59.128673Z",
     "start_time": "2025-03-14T08:07:59.111669Z"
    }
   },
   "cell_type": "code",
   "source": [
    "print(f\"The type of the data is {type(data_payload)}\")\n",
    "print(f\"{data_payload.keys()}\")"
   ],
   "id": "a343050d2ab84286",
   "outputs": [
    {
     "name": "stdout",
     "output_type": "stream",
     "text": [
      "The type of the data is <class 'dict'>\n",
      "dict_keys(['A', 'B', 'C', 'D', 'E'])\n"
     ]
    }
   ],
   "execution_count": 6
  },
  {
   "metadata": {},
   "cell_type": "markdown",
   "source": "### Initialize the Scoring Function",
   "id": "133efb6d5f89a370"
  },
  {
   "metadata": {},
   "cell_type": "code",
   "source": [
    "from pumas.scoring_framework.scoring_function import ScoringFunction\n",
    "scoring_function = ScoringFunction(\n",
    "        profile=scoring_profile,\n",
    "    )"
   ],
   "id": "e05f73b4f704e856",
   "outputs": [],
   "execution_count": null
  },
  {
   "metadata": {},
   "cell_type": "markdown",
   "source": "### Use the Scoring Function on Data",
   "id": "74cdac9337fff2dc"
  },
  {
   "metadata": {},
   "cell_type": "code",
   "source": [
    "result = scoring_function.compute(data=data_payload.get(\"A\"))\n",
    "print(result)"
   ],
   "id": "7858c8f9da03a0dc",
   "outputs": [],
   "execution_count": null
  },
  {
   "metadata": {},
   "cell_type": "code",
   "source": [
    "results_output = {uid:scoring_function.compute(data=data) for uid, data in data_payload.items()}\n",
    "from pprint import pprint\n",
    "pprint(results_output, indent=2)"
   ],
   "id": "65d52967ac276c4d",
   "outputs": [],
   "execution_count": null
  },
  {
   "metadata": {},
   "cell_type": "code",
   "source": "",
   "id": "38f8f36953393514",
   "outputs": [],
   "execution_count": null
  }
 ],
 "metadata": {
  "kernelspec": {
   "display_name": "Python 3",
   "language": "python",
   "name": "python3"
  },
  "language_info": {
   "codemirror_mode": {
    "name": "ipython",
    "version": 2
   },
   "file_extension": ".py",
   "mimetype": "text/x-python",
   "name": "python",
   "nbconvert_exporter": "python",
   "pygments_lexer": "ipython2",
   "version": "2.7.6"
  }
 },
 "nbformat": 4,
 "nbformat_minor": 5
}
