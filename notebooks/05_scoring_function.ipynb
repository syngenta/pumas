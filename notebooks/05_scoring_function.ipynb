{
 "cells": [
  {
   "metadata": {},
   "cell_type": "markdown",
   "source": [
    "# Scoring Function\n",
    "A scoring function is a function that takes as input a number of objective values and returns an aggregated desirability score.  \n",
    "The scoring function is dynamically constructed based on a scoring profile, defining the aggregation algorithm, and, for each objective, its desirability function and the required parameters.\n",
    "\n"
   ],
   "id": "e735e4eeefae68e0"
  },
  {
   "metadata": {},
   "cell_type": "markdown",
   "source": "## Code Examples",
   "id": "9e25da42f793d78e"
  },
  {
   "metadata": {
    "ExecuteTime": {
     "end_time": "2025-03-26T07:21:10.847599Z",
     "start_time": "2025-03-26T07:21:10.840598Z"
    }
   },
   "cell_type": "code",
   "source": [
    "# import the library and print the version\n",
    "import pumas\n",
    "print(pumas.__version__)"
   ],
   "id": "156fd7de20a70d39",
   "outputs": [
    {
     "name": "stdout",
     "output_type": "stream",
     "text": [
      "0.0.0\n"
     ]
    }
   ],
   "execution_count": 7
  },
  {
   "metadata": {},
   "cell_type": "markdown",
   "source": "### Prepare a Scoring Profile\n",
   "id": "5c9d03c10e888f3c"
  },
  {
   "metadata": {
    "ExecuteTime": {
     "end_time": "2025-03-26T07:21:10.877597Z",
     "start_time": "2025-03-26T07:21:10.862598Z"
    }
   },
   "cell_type": "code",
   "source": [
    "import json\n",
    "\n",
    "with open(\"data/quality_efficiency_cost/scoring_profile.json\", 'r') as file:\n",
    "    scoring_profile_dict = json.load(file)"
   ],
   "id": "ee110e397a148c48",
   "outputs": [],
   "execution_count": 8
  },
  {
   "metadata": {
    "ExecuteTime": {
     "end_time": "2025-03-26T07:21:10.907611Z",
     "start_time": "2025-03-26T07:21:10.894598Z"
    }
   },
   "cell_type": "code",
   "source": [
    "from pumas.scoring_profile.scoring_profile import ScoringProfile\n",
    "scoring_profile = ScoringProfile.model_validate(scoring_profile_dict)"
   ],
   "id": "f6fab1da529d3701",
   "outputs": [],
   "execution_count": 9
  },
  {
   "metadata": {},
   "cell_type": "markdown",
   "source": [
    "### Prepare the data\n",
    "The data_payload is a dictionary. Each item corresponds to an object to score.\n",
    "The key of each item is a unique identifier of the object; it will be used to report the results.\n",
    "The value of each item is a dictionary pf properties, where the key is the property name and the value is the property value."
   ],
   "id": "ef5f35a946be51d1"
  },
  {
   "metadata": {
    "ExecuteTime": {
     "end_time": "2025-03-26T07:21:10.954596Z",
     "start_time": "2025-03-26T07:21:10.940597Z"
    }
   },
   "cell_type": "code",
   "source": [
    "import json\n",
    "\n",
    "with open(\"data/quality_efficiency_cost/data_payload.json\", 'r') as file:\n",
    "    data_payload = json.load(file)\n"
   ],
   "id": "14afd251318b0af2",
   "outputs": [],
   "execution_count": 10
  },
  {
   "metadata": {
    "ExecuteTime": {
     "end_time": "2025-03-26T07:21:10.970598Z",
     "start_time": "2025-03-26T07:21:10.963596Z"
    }
   },
   "cell_type": "code",
   "source": [
    "print(f\"The type of the data is {type(data_payload)}\")\n",
    "print(f\"{data_payload.keys()}\")"
   ],
   "id": "a343050d2ab84286",
   "outputs": [
    {
     "name": "stdout",
     "output_type": "stream",
     "text": [
      "The type of the data is <class 'dict'>\n",
      "dict_keys(['A', 'B', 'C', 'D', 'E'])\n"
     ]
    }
   ],
   "execution_count": 11
  },
  {
   "metadata": {},
   "cell_type": "markdown",
   "source": "### Initialize the Scoring Function",
   "id": "133efb6d5f89a370"
  },
  {
   "metadata": {
    "ExecuteTime": {
     "end_time": "2025-03-26T07:21:11.080596Z",
     "start_time": "2025-03-26T07:21:11.064595Z"
    }
   },
   "cell_type": "code",
   "source": [
    "from pumas.scoring_framework.scoring_function import ScoringFunction\n",
    "scoring_function = ScoringFunction(\n",
    "        profile=scoring_profile,\n",
    "    )"
   ],
   "id": "e05f73b4f704e856",
   "outputs": [],
   "execution_count": 12
  },
  {
   "metadata": {},
   "cell_type": "markdown",
   "source": "### Use the Scoring Function on Data",
   "id": "74cdac9337fff2dc"
  },
  {
   "metadata": {
    "ExecuteTime": {
     "end_time": "2025-03-26T07:21:11.110595Z",
     "start_time": "2025-03-26T07:21:11.100596Z"
    }
   },
   "cell_type": "code",
   "source": [
    "result = scoring_function.compute(data=data_payload.get(\"A\"))\n",
    "print(result)"
   ],
   "id": "7858c8f9da03a0dc",
   "outputs": [
    {
     "name": "stdout",
     "output_type": "stream",
     "text": [
      "{'aggregated_score': 0.6869948435176845, 'desirability_scores': {'quality': 0.2402530733520421, 'efficiency': 0.6829859869471913, 'cost': 0.9789100228828135}}\n"
     ]
    }
   ],
   "execution_count": 13
  },
  {
   "metadata": {
    "ExecuteTime": {
     "end_time": "2025-03-26T07:21:11.170599Z",
     "start_time": "2025-03-26T07:21:11.151595Z"
    }
   },
   "cell_type": "code",
   "source": [
    "results_output = {uid:scoring_function.compute(data=data) for uid, data in data_payload.items()}\n",
    "from pprint import pprint\n",
    "pprint(results_output, indent=2)"
   ],
   "id": "65d52967ac276c4d",
   "outputs": [
    {
     "name": "stdout",
     "output_type": "stream",
     "text": [
      "{ 'A': { 'aggregated_score': 0.6869948435176845,\n",
      "         'desirability_scores': { 'cost': 0.9789100228828135,\n",
      "                                  'efficiency': 0.6829859869471913,\n",
      "                                  'quality': 0.2402530733520421}},\n",
      "  'B': { 'aggregated_score': 0.5115251886173351,\n",
      "         'desirability_scores': { 'cost': 0.8720068922233212,\n",
      "                                  'efficiency': 0.24025307335204218,\n",
      "                                  'quality': 0.4680631904645068}},\n",
      "  'C': { 'aggregated_score': 0.7846834488730515,\n",
      "         'desirability_scores': { 'cost': 0.999536056460154,\n",
      "                                  'efficiency': 0.8227449696365737,\n",
      "                                  'quality': 0.34533538970278355}},\n",
      "  'D': { 'aggregated_score': 0.23830511040078445,\n",
      "         'desirability_scores': { 'cost': 0.1279931077766788,\n",
      "                                  'efficiency': 0.4052193438583777,\n",
      "                                  'quality': 0.5319368095354932}},\n",
      "  'E': { 'aggregated_score': 0.03625495421211565,\n",
      "         'desirability_scores': { 'cost': 0.0031523091832602094,\n",
      "                                  'efficiency': 0.5,\n",
      "                                  'quality': 0.28998647022350377}}}\n"
     ]
    }
   ],
   "execution_count": 14
  },
  {
   "metadata": {
    "ExecuteTime": {
     "end_time": "2025-03-26T07:21:11.216595Z",
     "start_time": "2025-03-26T07:21:11.198597Z"
    }
   },
   "cell_type": "code",
   "source": "",
   "id": "38f8f36953393514",
   "outputs": [],
   "execution_count": null
  }
 ],
 "metadata": {
  "kernelspec": {
   "display_name": "Python 3",
   "language": "python",
   "name": "python3"
  },
  "language_info": {
   "codemirror_mode": {
    "name": "ipython",
    "version": 2
   },
   "file_extension": ".py",
   "mimetype": "text/x-python",
   "name": "python",
   "nbconvert_exporter": "python",
   "pygments_lexer": "ipython2",
   "version": "2.7.6"
  }
 },
 "nbformat": 4,
 "nbformat_minor": 5
}
