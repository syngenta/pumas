{
 "cells": [
  {
   "metadata": {},
   "cell_type": "markdown",
   "source": [
    "# Scoring Function\n",
    "A scoring function is a function that takes as input a number of objective values and returns an aggregated desirability score.  \n",
    "The scoring function is dynamically constructed based on a scoring profile, defining the aggregation algorithm, and, for each objective, its desirability function and the required parameters.\n",
    "\n"
   ],
   "id": "e735e4eeefae68e0"
  },
  {
   "metadata": {},
   "cell_type": "markdown",
   "source": "## Code Examples",
   "id": "9e25da42f793d78e"
  },
  {
   "metadata": {
    "ExecuteTime": {
     "end_time": "2025-03-13T22:46:27.986486Z",
     "start_time": "2025-03-13T22:46:27.968486Z"
    }
   },
   "cell_type": "code",
   "source": [
    "# import the library and print the version\n",
    "import pumas\n",
    "print(pumas.__version__)"
   ],
   "id": "156fd7de20a70d39",
   "outputs": [
    {
     "name": "stdout",
     "output_type": "stream",
     "text": [
      "0.0.0\n"
     ]
    }
   ],
   "execution_count": 30
  },
  {
   "metadata": {},
   "cell_type": "markdown",
   "source": "### Prepare a Scoring Profile\n",
   "id": "5c9d03c10e888f3c"
  },
  {
   "metadata": {
    "ExecuteTime": {
     "end_time": "2025-03-13T22:46:28.002486Z",
     "start_time": "2025-03-13T22:46:27.988487Z"
    }
   },
   "cell_type": "code",
   "source": [
    "scoring_profile_dict = {\n",
    "    \"objectives\": [\n",
    "        {\n",
    "            \"name\": \"quality\",\n",
    "            \"desirability_function\": {\n",
    "                \"name\": \"sigmoid\",\n",
    "                \"parameters\": {\n",
    "                    \"low\": 1.0,\n",
    "                    \"high\": 10.0,\n",
    "                    \"k\": 0.1,\n",
    "                    \"shift\": 0.0,\n",
    "                    \"base\": 10.0,\n",
    "                },\n",
    "            },\n",
    "            \"weight\": 1.0,\n",
    "            \"value_type\": \"float\",\n",
    "            \"kind\": \"numerical\",\n",
    "        },\n",
    "        {\n",
    "            \"name\": \"efficiency\",\n",
    "            \"desirability_function\": {\n",
    "                \"name\": \"multistep\",\n",
    "                \"parameters\": {\n",
    "                    \"coordinates\": [(0.0, 0.0), (0.5, 0.7), (1.0, 1.0)],\n",
    "                },\n",
    "            },\n",
    "            \"weight\": 2.0,\n",
    "            \"value_type\": \"float\",\n",
    "            \"kind\": \"numerical\",\n",
    "        },\n",
    "        {\n",
    "            \"name\": \"cost\",\n",
    "            \"desirability_function\": {\n",
    "                \"name\": \"sigmoid\",\n",
    "                \"parameters\": {\n",
    "                    \"low\": 20.0,\n",
    "                    \"high\": 80.0,\n",
    "                    \"k\": -0.5,\n",
    "                    \"shift\": 0.0,\n",
    "                    \"base\": 10.0,\n",
    "                },\n",
    "            },\n",
    "            \"weight\": 3.0,\n",
    "            \"value_type\": \"float\",\n",
    "            \"kind\": \"numerical\",\n",
    "        },\n",
    "    ],\n",
    "    \"aggregation_function\": {\n",
    "        \"name\": \"geometric_mean\",\n",
    "        \"parameters\": {},\n",
    "    },\n",
    "}"
   ],
   "id": "ee110e397a148c48",
   "outputs": [],
   "execution_count": 31
  },
  {
   "metadata": {
    "ExecuteTime": {
     "end_time": "2025-03-13T22:46:28.018487Z",
     "start_time": "2025-03-13T22:46:28.003486Z"
    }
   },
   "cell_type": "code",
   "source": [
    "from pumas.scoring_profile.scoring_profile import Profile\n",
    "scoring_profile = Profile.model_validate(scoring_profile_dict)"
   ],
   "id": "f6fab1da529d3701",
   "outputs": [],
   "execution_count": 32
  },
  {
   "metadata": {},
   "cell_type": "markdown",
   "source": "### Prepare the data",
   "id": "ef5f35a946be51d1"
  },
  {
   "metadata": {
    "ExecuteTime": {
     "end_time": "2025-03-13T22:46:28.034486Z",
     "start_time": "2025-03-13T22:46:28.021487Z"
    }
   },
   "cell_type": "code",
   "source": [
    "data_payload = {\n",
    "    \"A\":{ \"quality\": 1.0, \"cost\": 30.0, \"efficiency\": 0.7},\n",
    "    \"B\":{ \"quality\": 5.0, \"cost\": 40.0, \"efficiency\": 0.2},\n",
    "    \"C\":{ \"quality\": 3.0, \"cost\": 10.0, \"efficiency\": 0.9},\n",
    "    \"D\":{ \"quality\": 6.0, \"cost\": 60.0, \"efficiency\": 0.4},\n",
    "    \"E\":{ \"quality\": 2.0, \"cost\": 80.0, \"efficiency\": 0.5},\n",
    "}"
   ],
   "id": "14afd251318b0af2",
   "outputs": [],
   "execution_count": 33
  },
  {
   "metadata": {},
   "cell_type": "markdown",
   "source": "### Initialize the Scoring Function",
   "id": "133efb6d5f89a370"
  },
  {
   "metadata": {
    "ExecuteTime": {
     "end_time": "2025-03-13T22:46:28.049486Z",
     "start_time": "2025-03-13T22:46:28.036487Z"
    }
   },
   "cell_type": "code",
   "source": [
    "from pumas.scoring_framework.scoring_function import ScoringFunction\n",
    "scoring_function = ScoringFunction(\n",
    "        profile=scoring_profile,\n",
    "    )"
   ],
   "id": "e05f73b4f704e856",
   "outputs": [],
   "execution_count": 34
  },
  {
   "metadata": {},
   "cell_type": "markdown",
   "source": "### Use the Scoring Function on Data",
   "id": "74cdac9337fff2dc"
  },
  {
   "metadata": {
    "ExecuteTime": {
     "end_time": "2025-03-13T22:46:28.065485Z",
     "start_time": "2025-03-13T22:46:28.050486Z"
    }
   },
   "cell_type": "code",
   "source": [
    "result = scoring_function.compute(data=data_payload.get(\"A\"))\n",
    "print(result)"
   ],
   "id": "7858c8f9da03a0dc",
   "outputs": [
    {
     "name": "stdout",
     "output_type": "stream",
     "text": [
      "{'aggregated_score': 0.7301646955230212, 'desirability_scores': {'quality': 0.2402530733520421, 'efficiency': 0.82, 'cost': 0.9789100228828135}}\n"
     ]
    }
   ],
   "execution_count": 35
  },
  {
   "metadata": {
    "ExecuteTime": {
     "end_time": "2025-03-13T22:46:28.080486Z",
     "start_time": "2025-03-13T22:46:28.067486Z"
    }
   },
   "cell_type": "code",
   "source": [
    "results_output = {uid:scoring_function.compute(data=data) for uid, data in data_payload.items()}\n",
    "from pprint import pprint\n",
    "pprint(results_output, indent=2)"
   ],
   "id": "65d52967ac276c4d",
   "outputs": [
    {
     "name": "stdout",
     "output_type": "stream",
     "text": [
      "{ 'A': { 'aggregated_score': 0.7301646955230212,\n",
      "         'desirability_scores': { 'cost': 0.9789100228828135,\n",
      "                                  'efficiency': 0.82,\n",
      "                                  'quality': 0.2402530733520421}},\n",
      "  'B': { 'aggregated_score': 0.538307028943963,\n",
      "         'desirability_scores': { 'cost': 0.8720068922233212,\n",
      "                                  'efficiency': 0.27999999999999997,\n",
      "                                  'quality': 0.4680631904645068}},\n",
      "  'C': { 'aggregated_score': 0.8203176039237978,\n",
      "         'desirability_scores': { 'cost': 0.999536056460154,\n",
      "                                  'efficiency': 0.94,\n",
      "                                  'quality': 0.34533538970278355}},\n",
      "  'D': { 'aggregated_score': 0.26543975946499104,\n",
      "         'desirability_scores': { 'cost': 0.1279931077766788,\n",
      "                                  'efficiency': 0.5599999999999999,\n",
      "                                  'quality': 0.5319368095354932}},\n",
      "  'E': { 'aggregated_score': 0.04055801637276113,\n",
      "         'desirability_scores': { 'cost': 0.0031523091832602094,\n",
      "                                  'efficiency': 0.7,\n",
      "                                  'quality': 0.28998647022350377}}}\n"
     ]
    }
   ],
   "execution_count": 36
  },
  {
   "metadata": {
    "ExecuteTime": {
     "end_time": "2025-03-13T22:46:28.095485Z",
     "start_time": "2025-03-13T22:46:28.082486Z"
    }
   },
   "cell_type": "code",
   "source": "",
   "id": "38f8f36953393514",
   "outputs": [],
   "execution_count": 36
  }
 ],
 "metadata": {
  "kernelspec": {
   "display_name": "Python 3",
   "language": "python",
   "name": "python3"
  },
  "language_info": {
   "codemirror_mode": {
    "name": "ipython",
    "version": 2
   },
   "file_extension": ".py",
   "mimetype": "text/x-python",
   "name": "python",
   "nbconvert_exporter": "python",
   "pygments_lexer": "ipython2",
   "version": "2.7.6"
  }
 },
 "nbformat": 4,
 "nbformat_minor": 5
}
