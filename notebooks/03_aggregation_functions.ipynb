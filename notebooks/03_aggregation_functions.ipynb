{
 "cells": [
  {
   "metadata": {},
   "cell_type": "markdown",
   "source": [
    "# Aggregation Functions\n",
    "\n",
    "Aggregation functions are mathematical constructs used to combine multiple input values into a single representative output. In the context of multi-criteria decision-making and optimization, these functions are often used to aggregate the results of desirability functions applied to various properties of an object.\n",
    "\n",
    "These functions depend on multiple variables and parameters, which can be categorized into three main types:\n",
    "\n",
    "1. **Input Variables**: These are the values to be aggregated, typically the outputs of desirability functions, represented as $y = (y_1, y_2, ..., y_n)$, where each $y_i \\in [0, 1]$.\n",
    "\n",
    "2. **Weights**: These are the importance factors assigned to each input variable, denoted as $w = (w_1, w_2, ..., w_n)$, where typically $\\sum_{i=1}^n w_i = 1$ and $w_i \\geq 0$ for all $i$.\n",
    "\n",
    "3. **Shape Parameters**: These define the specific form of the aggregation function, denoted as $\\theta = (\\theta_1, \\theta_2, ..., \\theta_m)$, where each $\\theta_j$ has its specific type and valid range.\n",
    "\n",
    "The general form of an aggregation function can be expressed as:\n",
    "\n",
    "$A(y, w; \\theta) : [0, 1]^n \\times \\mathbb{R}^n_+ \\times \\Theta \\rightarrow [0, 1]$\n",
    "\n",
    "where $\\Theta$ represents the parameter space.\n",
    "\n",
    "## Mathematical Formulation\n",
    "\n",
    "Let $G$ be the set of all aggregation functions in our family. For each function $A \\in G$, we define:\n",
    "\n",
    "$\\text{parameters}(A) = \\{\\theta_1, \\theta_2, ..., \\theta_m\\}$\n",
    "\n",
    "Where each parameter $\\theta_j$ is defined by a tuple:\n",
    "\n",
    "$\\theta_j = (\\text{name}, \\text{type}, \\text{default}, \\text{range}, \\text{description})$\n",
    "\n",
    "The validation process for a given input parameter set $\\theta$ can be represented as:\n",
    "\n",
    "$\\text{validate}(A, \\theta) = \\begin{cases} \n",
    "      \\text{True} & \\text{if } \\forall \\theta_j \\in \\text{parameters}(A), \\theta_j \\in \\text{range}(\\theta_j) \\\\\n",
    "      \\text{False} & \\text{otherwise}\n",
    "   \\end{cases}$\n",
    "\n",
    "Where $\\text{range}(\\theta_j)$ represents the valid range for parameter $\\theta_j$.\n",
    "\n",
    "The computation of the aggregation function can then be expressed as:\n",
    "\n",
    "$A(y, w; \\theta) : [0, 1]^n \\times \\mathbb{R}^n_+ \\times \\Theta \\rightarrow [0, 1]$\n",
    "\n",
    "Where $y = (y_1, y_2, ..., y_n)$ represents the input variables (typically desirability function outputs), $w = (w_1, w_2, ..., w_n)$ represents the weights, and $\\Theta$ is the parameter space defined by the validated parameters.\n",
    "\n",
    "## API Description\n",
    "\n",
    "The implementation of aggregation functions follows a similar pattern to desirability functions:\n",
    "\n",
    "1. **Initialization**: The strategy is initialized with the shape parameters $\\theta$.\n",
    "\n",
    "   ```python\n",
    "   aggregation_instance = aggregation_class(params=shape_parameters)\n",
    "   ```\n",
    "\n",
    "2. **Computation**: The aggregation function is computed for given inputs $y$ and weights $w$.\n",
    "\n",
    "   ```python\n",
    "   result = aggregation_instance(y=desirability_outputs, w=weights)\n",
    "   ```\n",
    "\n",
    "This implementation allows for flexible use of different aggregation strategies while maintaining a consistent interface.\n",
    "\n",
    "## Implementation Details\n",
    "\n",
    "Like the desirability functions, each aggregation function in our framework:\n",
    "\n",
    "1. Exposes a detailed description of its required parameters\n",
    "2. Embeds reasonable default values where possible\n",
    "3. Defines acceptable ranges for parameters when appropriate\n",
    "\n",
    "The input parameter values are validated against this internal definition, raising descriptive error messages when requirements are not met.\n",
    "\n",
    "Common examples of aggregation functions include:\n",
    "\n",
    "1. **Weighted Arithmetic Mean**: $A(y, w) = \\sum_{i=1}^n w_i y_i$\n",
    "2. **Weighted Geometric Mean**: $A(y, w) = \\prod_{i=1}^n y_i^{w_i}$\n",
    "\n",
    "\n",
    "Each of these functions may have additional shape parameters that modify their behavior, such as a power parameter for generalized means.\n",
    "\n",
    "This framework of aggregation functions complements the desirability functions, allowing for sophisticated multi-criteria decision-making and optimization strategies.\n",
    "\n",
    "\n",
    "\n"
   ],
   "id": "623de378b57df6d3"
  },
  {
   "metadata": {},
   "cell_type": "markdown",
   "source": "## Code Examples",
   "id": "e53760c383527bfd"
  },
  {
   "metadata": {},
   "cell_type": "code",
   "outputs": [],
   "execution_count": null,
   "source": [
    "# import the library and print the version\n",
    "import pumas\n",
    "print(pumas.__version__)"
   ],
   "id": "571e928fb8118318"
  },
  {
   "metadata": {},
   "cell_type": "markdown",
   "source": [
    "### Discover available aggregation functions\n",
    "A catalogue contains all the aggregation functions implemented in PUMAS.   \n",
    "The catalogue can be extended by registering into it new classes that adhere to the Aggregation interface. "
   ],
   "id": "cb43d61b7c65e9a8"
  },
  {
   "metadata": {
    "ExecuteTime": {
     "end_time": "2025-03-13T20:32:05.918004Z",
     "start_time": "2025-03-13T20:32:05.798993Z"
    }
   },
   "cell_type": "code",
   "source": [
    "from pumas.aggregation import aggregation_catalogue\n",
    "aggregation_catalogue.list_items()"
   ],
   "id": "4e26064a71c86ac8",
   "outputs": [
    {
     "data": {
      "text/plain": [
       "['arithmetic_mean',\n",
       " 'geometric_mean',\n",
       " 'harmonic_mean',\n",
       " 'deviation_index',\n",
       " 'summation',\n",
       " 'product']"
      ]
     },
     "execution_count": 1,
     "metadata": {},
     "output_type": "execute_result"
    }
   ],
   "execution_count": 1
  },
  {
   "metadata": {},
   "cell_type": "markdown",
   "source": "The catalogue yields an aggregation function class, not an instance.\n",
   "id": "5aaf55f87a4f71d3"
  },
  {
   "metadata": {
    "ExecuteTime": {
     "end_time": "2025-03-13T20:33:12.354570Z",
     "start_time": "2025-03-13T20:33:12.338555Z"
    }
   },
   "cell_type": "code",
   "source": "aggregation_class = aggregation_catalogue.get(\"geometric_mean\")",
   "id": "38742a7feee30e5d",
   "outputs": [],
   "execution_count": 2
  },
  {
   "metadata": {},
   "cell_type": "markdown",
   "source": [
    "## Initialize and use an aggregation function\n",
    "The instantiation in most cases does not require any parameter. The only exception is the deviation_index.\n"
   ],
   "id": "b4fb463ef3cb402c"
  },
  {
   "metadata": {
    "ExecuteTime": {
     "end_time": "2025-03-13T20:42:21.791105Z",
     "start_time": "2025-03-13T20:42:21.788103Z"
    }
   },
   "cell_type": "code",
   "source": "aggregation_instance = aggregation_class()",
   "id": "610f1367bb6576e6",
   "outputs": [],
   "execution_count": 4
  },
  {
   "metadata": {},
   "cell_type": "markdown",
   "source": "Once properly instantiated, the aggregation function can be used to calculate an aggregated score from multiple desirability scores. ",
   "id": "2dc0232d23ac28c9"
  },
  {
   "metadata": {
    "ExecuteTime": {
     "end_time": "2025-03-13T20:45:04.297721Z",
     "start_time": "2025-03-13T20:45:04.290721Z"
    }
   },
   "cell_type": "code",
   "source": [
    "values= [0.1, 0.5, 0.6]\n",
    "weights = [3.0, 5.0, 2.0]\n",
    "result = aggregation_instance(values=values, weights=weights)\n",
    "print(f\"The aggregated score is {result:.2f}\")"
   ],
   "id": "63719409cfd7d2bd",
   "outputs": [
    {
     "name": "stdout",
     "output_type": "stream",
     "text": [
      "The aggregated score is 0.32\n"
     ]
    }
   ],
   "execution_count": 7
  },
  {
   "metadata": {},
   "cell_type": "markdown",
   "source": "Weights are normalized as part of the computation: their relative value matters.",
   "id": "ba104850321b58de"
  },
  {
   "metadata": {
    "ExecuteTime": {
     "end_time": "2025-03-13T20:45:06.401182Z",
     "start_time": "2025-03-13T20:45:06.396181Z"
    }
   },
   "cell_type": "code",
   "source": [
    "values= [0.1, 0.5, 0.6]\n",
    "weights = [0.3, 0.5,0.2]\n",
    "result = aggregation_instance(values=values, weights=weights)\n",
    "print(f\"The aggregated score is {result:.2f}\")"
   ],
   "id": "232f5c3636712215",
   "outputs": [
    {
     "name": "stdout",
     "output_type": "stream",
     "text": [
      "The aggregated score is 0.32\n"
     ]
    }
   ],
   "execution_count": 8
  },
  {
   "metadata": {},
   "cell_type": "markdown",
   "source": "If no weights are provided, equal weights are assumed",
   "id": "95e8d35c9eef7c59"
  },
  {
   "metadata": {
    "ExecuteTime": {
     "end_time": "2025-03-13T20:52:36.012293Z",
     "start_time": "2025-03-13T20:52:35.991246Z"
    }
   },
   "cell_type": "code",
   "source": [
    "values= [0.1, 0.5, 0.6]\n",
    "weights = [1.0, 1.0, 1.0]\n",
    "result = aggregation_instance(values=values, weights=weights)\n",
    "print(f\"The aggregated score is {result:.2f}\")"
   ],
   "id": "5f69b2335d624efb",
   "outputs": [
    {
     "name": "stdout",
     "output_type": "stream",
     "text": [
      "The aggregated score is 0.36\n"
     ]
    }
   ],
   "execution_count": 11
  },
  {
   "metadata": {
    "ExecuteTime": {
     "end_time": "2025-03-13T20:52:55.804280Z",
     "start_time": "2025-03-13T20:52:55.797287Z"
    }
   },
   "cell_type": "code",
   "source": [
    "values= [0.1, 0.5, 0.6]\n",
    "result = aggregation_instance(values=values, )\n",
    "print(f\"The aggregated score is {result:.2f}\")"
   ],
   "id": "cdcd479c0b53f376",
   "outputs": [
    {
     "name": "stdout",
     "output_type": "stream",
     "text": [
      "The aggregated score is 0.36\n"
     ]
    }
   ],
   "execution_count": 12
  },
  {
   "metadata": {},
   "cell_type": "markdown",
   "source": "if either a value or a weight is None or Nan, the pair is deleted, and a warning is raised. ",
   "id": "50cb846e0d914754"
  },
  {
   "metadata": {
    "ExecuteTime": {
     "end_time": "2025-03-13T21:13:40.841840Z",
     "start_time": "2025-03-13T21:13:40.823841Z"
    }
   },
   "cell_type": "code",
   "source": [
    "vw = [\n",
    "    ([0.1, None, 0.6], [0.3, 0.5, 0.2]),\n",
    "    ([0.1, None, 0.6], [0.3,None, 0.2]),\n",
    "    ([0.1, 0.5, 0.6], [0.3, None, 0.2]),\n",
    "    ([0.1, 0.6], [0.3, 0.2]),\n",
    " ]\n",
    "\n",
    "for (values, weights) in vw:\n",
    "    result = aggregation_instance(values=values, weights=weights)\n",
    "    print(result)"
   ],
   "id": "6018facb34ba4479",
   "outputs": [
    {
     "name": "stderr",
     "output_type": "stream",
     "text": [
      "WARNING:root:None or NaN values are not allowed.\n",
      "WARNING:root:None or NaN values are not allowed.\n",
      "WARNING:root:None or NaN weights are not allowed.\n",
      "WARNING:root:None or NaN weights are not allowed.\n"
     ]
    },
    {
     "name": "stdout",
     "output_type": "stream",
     "text": [
      "0.21897503240933447\n",
      "0.21897503240933447\n",
      "0.21897503240933447\n",
      "0.21897503240933447\n"
     ]
    }
   ],
   "execution_count": 18
  },
  {
   "metadata": {},
   "cell_type": "markdown",
   "source": [
    "### Discover Parameters\n",
    "Most aggregation function do not require parameters, while some do."
   ],
   "id": "98d186d8754b3340"
  },
  {
   "metadata": {
    "ExecuteTime": {
     "end_time": "2025-03-13T20:46:57.287705Z",
     "start_time": "2025-03-13T20:46:57.269689Z"
    }
   },
   "cell_type": "code",
   "source": [
    "aggregation_class = aggregation_catalogue.get(\"geometric_mean\")\n",
    "aggregation_instance = aggregation_class()\n",
    "print(aggregation_instance.parameters_map)"
   ],
   "id": "f0080dc5402be929",
   "outputs": [
    {
     "name": "stdout",
     "output_type": "stream",
     "text": [
      "{}\n"
     ]
    }
   ],
   "execution_count": 9
  },
  {
   "metadata": {
    "ExecuteTime": {
     "end_time": "2025-03-13T20:47:12.837444Z",
     "start_time": "2025-03-13T20:47:12.822444Z"
    }
   },
   "cell_type": "code",
   "source": [
    "aggregation_class = aggregation_catalogue.get(\"deviation_index\")\n",
    "aggregation_instance = aggregation_class()\n",
    "print(aggregation_instance.parameters_map)"
   ],
   "id": "ac54f74b4ca7b858",
   "outputs": [
    {
     "name": "stdout",
     "output_type": "stream",
     "text": [
      "{'ideal_value': FloatParameter(name='ideal_value', default=1.0, min=-inf, max=inf)}\n"
     ]
    }
   ],
   "execution_count": 10
  },
  {
   "metadata": {},
   "cell_type": "markdown",
   "source": "### Errors while providing input",
   "id": "88e1d111de958d3d"
  },
  {
   "metadata": {
    "ExecuteTime": {
     "end_time": "2025-03-13T21:06:21.757674Z",
     "start_time": "2025-03-13T21:06:21.751674Z"
    }
   },
   "cell_type": "code",
   "source": [
    "values= 1\n",
    "weights = [1.0, 1.0,1.0]\n",
    "try:\n",
    "    result = aggregation_instance(values=values, weights=weights)\n",
    "except Exception as e:\n",
    "    print(e)"
   ],
   "id": "377655066cf538e8",
   "outputs": [
    {
     "name": "stdout",
     "output_type": "stream",
     "text": [
      "object of type 'int' has no len()\n"
     ]
    }
   ],
   "execution_count": 15
  }
 ],
 "metadata": {
  "kernelspec": {
   "display_name": "Python 3",
   "language": "python",
   "name": "python3"
  },
  "language_info": {
   "codemirror_mode": {
    "name": "ipython",
    "version": 2
   },
   "file_extension": ".py",
   "mimetype": "text/x-python",
   "name": "python",
   "nbconvert_exporter": "python",
   "pygments_lexer": "ipython2",
   "version": "2.7.6"
  }
 },
 "nbformat": 4,
 "nbformat_minor": 5
}
