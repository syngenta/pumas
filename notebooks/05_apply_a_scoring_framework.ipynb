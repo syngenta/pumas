{
 "cells": [
  {
   "metadata": {},
   "cell_type": "raw",
   "source": "",
   "id": "4731c39266a6477f"
  },
  {
   "metadata": {},
   "cell_type": "markdown",
   "source": [
    "We start with some necessary imports from the pacakge.\n",
    "To perform the calculations we need:  \n",
    "a) a DataFrame instance from a row-oriented dataset  \n",
    "b) a Profile instance from a json/dictionary  \n",
    "c) a FrameworkScoreValue instance with the properties and scoring profile  \n"
   ],
   "id": "2bbd25733ffab11c"
  },
  {
   "metadata": {
    "ExecuteTime": {
     "end_time": "2024-10-14T05:41:58.031901Z",
     "start_time": "2024-10-14T05:41:57.780348Z"
    }
   },
   "cell_type": "code",
   "source": [
    "# some necessary imports\n",
    "import pumas\n",
    "from pumas.dataframes.dataframe import DataFrame\n",
    "from pumas.scoring_profile.models import Profile\n",
    "from pumas.frameworks.frameworks import FrameworkScoreValue\n",
    "\n",
    "print(pumas.__version__)"
   ],
   "id": "1d4fc35e77d0b7e",
   "outputs": [
    {
     "name": "stdout",
     "output_type": "stream",
     "text": [
      "0.0.0\n"
     ]
    }
   ],
   "execution_count": 1
  },
  {
   "metadata": {},
   "cell_type": "raw",
   "source": "We create a DataFrame instance from a row-oriented dataset\n",
   "id": "fa24e8ffdc8aa2c5"
  },
  {
   "metadata": {
    "ExecuteTime": {
     "end_time": "2024-10-14T05:41:58.047917Z",
     "start_time": "2024-10-14T05:41:58.033902Z"
    }
   },
   "cell_type": "code",
   "source": [
    "data = [\n",
    "    {\"uid\": \"A\", \"quality\": 1.0, \"cost\": 30.0, \"efficiency\": 0.7},\n",
    "    {\"uid\": \"B\", \"quality\": 5.0, \"cost\": 40.0, \"efficiency\": 0.2},\n",
    "    {\"uid\": \"C\", \"quality\": 3.0, \"cost\": 10.0, \"efficiency\": 0.9},\n",
    "    {\"uid\": \"D\", \"quality\": 6.0, \"cost\": 60.0, \"efficiency\": 0.4},\n",
    "    {\"uid\": \"E\", \"quality\": 2.0, \"cost\": 80.0, \"efficiency\": 0.5},\n",
    "]\n",
    "properties_dataframe = DataFrame(row_data=data)"
   ],
   "id": "14815f8d611780d4",
   "outputs": [],
   "execution_count": 2
  },
  {
   "metadata": {},
   "cell_type": "markdown",
   "source": "We build a ScoringProfile instance from a json/dictionary",
   "id": "3d1e1894009106be"
  },
  {
   "metadata": {
    "ExecuteTime": {
     "end_time": "2024-10-14T05:41:58.064034Z",
     "start_time": "2024-10-14T05:41:58.048923Z"
    }
   },
   "cell_type": "code",
   "source": [
    "scoring_profile_dict = {\n",
    "    \"objectives\": [\n",
    "        {\n",
    "            \"name\": \"quality\",\n",
    "            \"desirability_function\": {\n",
    "                \"name\": \"sigmoid\",\n",
    "                \"parameters\": {\n",
    "                    \"low\": 1.0,\n",
    "                    \"high\": 10.0,\n",
    "                    \"k\": 0.1,\n",
    "                    \"shift\": 0.0,\n",
    "                    \"base\": 10.0,\n",
    "                },\n",
    "            },\n",
    "            \"weight\": 1.0,\n",
    "            \"value_type\": \"float\",\n",
    "            \"kind\": \"numerical\",\n",
    "        },\n",
    "        {\n",
    "            \"name\": \"efficiency\",\n",
    "            \"desirability_function\": {\n",
    "                \"name\": \"step\",\n",
    "                \"parameters\": {\n",
    "                    \"coordinates\": [(0.0, 0.0), (0.5, 0.0), (1.0, 0.0)],\n",
    "                },\n",
    "            },\n",
    "            \"weight\": 2.0,\n",
    "            \"value_type\": \"float\",\n",
    "            \"kind\": \"numerical\",\n",
    "        },\n",
    "        {\n",
    "            \"name\": \"cost\",\n",
    "            \"desirability_function\": {\n",
    "                \"name\": \"sigmoid\",\n",
    "                \"parameters\": {\n",
    "                    \"low\": 20.0,\n",
    "                    \"high\": 80.0,\n",
    "                    \"k\": -0.5,\n",
    "                    \"shift\": 0.0,\n",
    "                    \"base\": 10.0,\n",
    "                },\n",
    "            },\n",
    "            \"weight\": 3.0,\n",
    "            \"value_type\": \"float\",\n",
    "            \"kind\": \"numerical\",\n",
    "        },\n",
    "    ],\n",
    "    \"aggregation_function\": {\n",
    "        \"name\": \"geometric_mean\",\n",
    "        \"parameters\": {},\n",
    "    },\n",
    "}\n",
    "\n",
    "scoring_profile = Profile(**scoring_profile_dict)"
   ],
   "id": "dda4b199becbaa3b",
   "outputs": [],
   "execution_count": 3
  },
  {
   "metadata": {
    "ExecuteTime": {
     "end_time": "2024-10-14T05:41:58.079917Z",
     "start_time": "2024-10-14T05:41:58.064929Z"
    }
   },
   "cell_type": "code",
   "source": [
    "scorer = FrameworkScoreValue(\n",
    "    properties=properties_dataframe, scoring_profile=scoring_profile\n",
    ")\n",
    "scorer.compute()\n",
    "desirability_dataframe = scorer.desirability_dataframe\n",
    "aggregated_dataframe = scorer.aggregated_dataframe"
   ],
   "id": "b96d113855b36971",
   "outputs": [],
   "execution_count": 4
  },
  {
   "metadata": {
    "ExecuteTime": {
     "end_time": "2024-10-14T05:41:58.096015Z",
     "start_time": "2024-10-14T05:41:58.081964Z"
    }
   },
   "cell_type": "code",
   "source": "desirability_dataframe.column_data",
   "id": "5adb38b770c8d15f",
   "outputs": [
    {
     "data": {
      "text/plain": [
       "{'quality': [0.2402530733520421,\n",
       "  0.4680631904645068,\n",
       "  0.34533538970278355,\n",
       "  0.5319368095354932,\n",
       "  0.28998647022350377],\n",
       " 'efficiency': [0.0, 0.0, 0.0, 0.0, 0.0],\n",
       " 'cost': [0.9789100228828135,\n",
       "  0.8720068922233212,\n",
       "  0.999536056460154,\n",
       "  0.12799310777667877,\n",
       "  0.0031523091832602115]}"
      ]
     },
     "execution_count": 5,
     "metadata": {},
     "output_type": "execute_result"
    }
   ],
   "execution_count": 5
  },
  {
   "metadata": {
    "ExecuteTime": {
     "end_time": "2024-10-14T05:41:58.111992Z",
     "start_time": "2024-10-14T05:41:58.096943Z"
    }
   },
   "cell_type": "code",
   "source": "aggregated_dataframe.column_data",
   "id": "a225ba51657d1895",
   "outputs": [
    {
     "data": {
      "text/plain": [
       "{'aggregated_score': [np.float64(0.0),\n",
       "  np.float64(0.0),\n",
       "  np.float64(0.0),\n",
       "  np.float64(0.0),\n",
       "  np.float64(0.0)]}"
      ]
     },
     "execution_count": 6,
     "metadata": {},
     "output_type": "execute_result"
    }
   ],
   "execution_count": 6
  },
  {
   "metadata": {
    "ExecuteTime": {
     "end_time": "2024-10-14T05:41:58.126993Z",
     "start_time": "2024-10-14T05:41:58.112944Z"
    }
   },
   "cell_type": "code",
   "source": "",
   "id": "50fe5caf34f0cd58",
   "outputs": [],
   "execution_count": 6
  }
 ],
 "metadata": {
  "kernelspec": {
   "display_name": "Python 3",
   "language": "python",
   "name": "python3"
  },
  "language_info": {
   "codemirror_mode": {
    "name": "ipython",
    "version": 2
   },
   "file_extension": ".py",
   "mimetype": "text/x-python",
   "name": "python",
   "nbconvert_exporter": "python",
   "pygments_lexer": "ipython2",
   "version": "2.7.6"
  }
 },
 "nbformat": 4,
 "nbformat_minor": 5
}
