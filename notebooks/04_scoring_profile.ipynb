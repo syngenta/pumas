{
 "cells": [
  {
   "metadata": {},
   "cell_type": "markdown",
   "source": [
    "# Scoring profile\n",
    "The scoring profile represents the \"recipe\" of a multi-objective scoring systems.\n",
    "It includes information about the different objectives, and for each indicates the corresponding desirability function and its shape parameters. \n",
    "It also includes information about the aggregation strategy, and the weights of each objective within the overall score."
   ],
   "id": "163e44fea057ded"
  },
  {
   "metadata": {},
   "cell_type": "markdown",
   "source": [
    "## Data Model\n",
    "\n",
    "The data model for scoring profiles consists of four main classes:\n",
    "\n",
    "1. **Profile**: This is the top-level class that represents a complete scoring profile.\n",
    "   - It contains a list of `Objective` instances and an `AggregationFunction`.\n",
    "   - Validations:\n",
    "     - Ensures that either all objectives have weights or none have weights.\n",
    "     - Checks that objective names are unique.\n",
    "\n",
    "2. **Objective**: Represents a single objective in the scoring profile.\n",
    "   - Contains a name, a `DesirabilityFunction`, an optional weight, and optional type information.\n",
    "\n",
    "3. **DesirabilityFunction**: Defines a desirability function for an objective.\n",
    "   - Has a name and a dictionary of parameters.\n",
    "   - Validations:\n",
    "     - Checks if the desirability function name is valid (exists in the catalogue).\n",
    "     - Validates the parameters for the specific desirability function.\n",
    "\n",
    "4. **AggregationFunction**: Defines how the individual objective scores are combined.\n",
    "   - Has a name and optional parameters.\n",
    "   - Validations:\n",
    "     - Checks if the aggregation function name is valid (exists in the catalogue).\n",
    "\n",
    "Each layer of the model includes its own validations to ensure data integrity and consistency.\n",
    "\n",
    "## Class Diagram"
   ],
   "id": "ace2beb1c0ccb096"
  },
  {
   "metadata": {
    "ExecuteTime": {
     "end_time": "2025-03-14T08:22:07.834506Z",
     "start_time": "2025-03-14T08:22:07.814503Z"
    }
   },
   "cell_type": "code",
   "source": [
    "from notebook_utils.mermaid_utils import Mermaid\n",
    "\n",
    "# Writing to a file\n",
    "with open(\"data/schemas/scoring_profile_data_model.mermaid\", 'r') as file:\n",
    "    content = file.read()\n",
    "mermaid_txt=content\n",
    "Mermaid(mermaid_txt)"
   ],
   "id": "6308e6208f28d10",
   "outputs": [
    {
     "data": {
      "text/html": [
       "<img src=\"https://mermaid.ink/img/Y2xhc3NEaWFncmFtCiAgICBjbGFzcyBQcm9maWxlIHsKICAgICAgICArTGlzdFtPYmplY3RpdmVdIG9iamVjdGl2ZXMKICAgICAgICArQWdncmVnYXRpb25GdW5jdGlvbiBhZ2dyZWdhdGlvbl9mdW5jdGlvbgogICAgICAgICt2YWxpZGF0ZV93ZWlnaHRzKCkKICAgICAgICArdmFsaWRhdGVfdW5pcXVlX29iamVjdGl2ZV9uYW1lcygpCiAgICAgICAgK3dyaXRlX3RvX2ZpbGUoZmlsZV9wYXRoKQogICAgICAgICtyZWFkX2Zyb21fZmlsZShmaWxlX3BhdGgpCiAgICB9CiAgICBjbGFzcyBPYmplY3RpdmUgewogICAgICAgICtzdHIgbmFtZQogICAgICAgICtEZXNpcmFiaWxpdHlGdW5jdGlvbiBkZXNpcmFiaWxpdHlfZnVuY3Rpb24KICAgICAgICArT3B0aW9uYWxbZmxvYXRdIHdlaWdodAogICAgICAgICtPcHRpb25hbFtMaXRlcmFsXSB2YWx1ZV90eXBlCiAgICAgICAgK09wdGlvbmFsW0xpdGVyYWxdIGtpbmQKICAgIH0KICAgIGNsYXNzIERlc2lyYWJpbGl0eUZ1bmN0aW9uIHsKICAgICAgICArc3RyIG5hbWUKICAgICAgICArRGljdFtzdHIsIEFueV0gcGFyYW1ldGVycwogICAgICAgICt2YWxpZGF0ZV9kZXNpcmFiaWxpdHlfZnVuY3Rpb25fbmFtZSgpCiAgICAgICAgK3ZhbGlkYXRlX2Rlc2lyYWJpbGl0eV9mdW5jdGlvbl9wYXJhbWV0ZXJzKCkKICAgIH0KICAgIGNsYXNzIEFnZ3JlZ2F0aW9uRnVuY3Rpb24gewogICAgICAgICtzdHIgbmFtZQogICAgICAgICtPcHRpb25hbFtEaWN0W3N0ciwgQW55XV0gcGFyYW1ldGVycwogICAgICAgICt2YWxpZGF0ZV9hZ2dyZWdhdGlvbl9mdW5jdGlvbigpCiAgICB9CiAgICBQcm9maWxlICIxIiAtLSAiKiIgT2JqZWN0aXZlCiAgICBQcm9maWxlICIxIiAtLSAiMSIgQWdncmVnYXRpb25GdW5jdGlvbgogICAgT2JqZWN0aXZlICIxIiAtLSAiMSIgRGVzaXJhYmlsaXR5RnVuY3Rpb24=\"/>"
      ],
      "text/plain": [
       "<IPython.core.display.Image object>"
      ]
     },
     "metadata": {},
     "output_type": "display_data"
    }
   ],
   "execution_count": 1
  },
  {
   "metadata": {},
   "cell_type": "markdown",
   "source": [
    "## Example Scoring Profile\n",
    "\n",
    "Here's an example of a scoring profile as a Python dictionary:"
   ],
   "id": "900f9b75cc3dabe2"
  },
  {
   "metadata": {
    "ExecuteTime": {
     "end_time": "2025-03-14T08:22:07.880501Z",
     "start_time": "2025-03-14T08:22:07.836488Z"
    }
   },
   "cell_type": "code",
   "source": [
    "import json\n",
    "\n",
    "with open(\"data/quality_efficiency_cost/scoring_profile.json\", 'r') as file:\n",
    "    scoring_profile_dict = json.load(file)\n",
    "print(scoring_profile_dict)"
   ],
   "id": "f45ec06fa8c0447a",
   "outputs": [
    {
     "name": "stdout",
     "output_type": "stream",
     "text": [
      "{'objectives': [{'name': 'quality', 'desirability_function': {'name': 'sigmoid', 'parameters': {'low': 1.0, 'high': 10.0, 'k': 0.1, 'shift': 0.0, 'base': 10.0}}, 'weight': 1.0}, {'name': 'efficiency', 'desirability_function': {'name': 'sigmoid', 'parameters': {'low': 0.2, 'high': 0.8, 'k': 0.1, 'shift': 0.0, 'base': 10.0}}, 'weight': 2.0}, {'name': 'cost', 'desirability_function': {'name': 'sigmoid', 'parameters': {'low': 20.0, 'high': 80.0, 'k': -0.5, 'shift': 0.0, 'base': 10.0}}, 'weight': 3.0}], 'aggregation_function': {'name': 'geometric_mean', 'parameters': {}}}\n"
     ]
    }
   ],
   "execution_count": 2
  },
  {
   "metadata": {
    "ExecuteTime": {
     "end_time": "2025-03-14T08:22:07.911500Z",
     "start_time": "2025-03-14T08:22:07.882489Z"
    }
   },
   "cell_type": "code",
   "source": [
    "# import the library and print the version\n",
    "import pumas\n",
    "print(pumas.__version__)"
   ],
   "id": "ef293b882f0c9fef",
   "outputs": [
    {
     "name": "stdout",
     "output_type": "stream",
     "text": [
      "0.0.0\n"
     ]
    }
   ],
   "execution_count": 3
  },
  {
   "metadata": {
    "ExecuteTime": {
     "end_time": "2025-03-14T08:22:08.178814Z",
     "start_time": "2025-03-14T08:22:07.913487Z"
    }
   },
   "cell_type": "code",
   "source": [
    "from pumas.scoring_profile.scoring_profile import ScoringProfile\n",
    "# Instantiate the Profile class with the scoring profile\n",
    "scoring_profile = ScoringProfile.model_validate(scoring_profile_dict)\n",
    "print(scoring_profile.model_dump_json(indent=2))"
   ],
   "id": "c702c8469c0de327",
   "outputs": [
    {
     "name": "stdout",
     "output_type": "stream",
     "text": [
      "{\n",
      "  \"objectives\": [\n",
      "    {\n",
      "      \"name\": \"quality\",\n",
      "      \"desirability_function\": {\n",
      "        \"name\": \"sigmoid\",\n",
      "        \"parameters\": {\n",
      "          \"low\": 1.0,\n",
      "          \"high\": 10.0,\n",
      "          \"k\": 0.1,\n",
      "          \"shift\": 0.0,\n",
      "          \"base\": 10.0\n",
      "        }\n",
      "      },\n",
      "      \"weight\": 1.0\n",
      "    },\n",
      "    {\n",
      "      \"name\": \"efficiency\",\n",
      "      \"desirability_function\": {\n",
      "        \"name\": \"sigmoid\",\n",
      "        \"parameters\": {\n",
      "          \"low\": 0.2,\n",
      "          \"high\": 0.8,\n",
      "          \"k\": 0.1,\n",
      "          \"shift\": 0.0,\n",
      "          \"base\": 10.0\n",
      "        }\n",
      "      },\n",
      "      \"weight\": 2.0\n",
      "    },\n",
      "    {\n",
      "      \"name\": \"cost\",\n",
      "      \"desirability_function\": {\n",
      "        \"name\": \"sigmoid\",\n",
      "        \"parameters\": {\n",
      "          \"low\": 20.0,\n",
      "          \"high\": 80.0,\n",
      "          \"k\": -0.5,\n",
      "          \"shift\": 0.0,\n",
      "          \"base\": 10.0\n",
      "        }\n",
      "      },\n",
      "      \"weight\": 3.0\n",
      "    }\n",
      "  ],\n",
      "  \"aggregation_function\": {\n",
      "    \"name\": \"geometric_mean\",\n",
      "    \"parameters\": {}\n",
      "  }\n",
      "}\n"
     ]
    }
   ],
   "execution_count": 4
  },
  {
   "metadata": {},
   "cell_type": "markdown",
   "source": [
    "\n",
    "The `Profile.model_validate()` method is used to create a `Profile` instance from the dictionary, which will trigger all the defined validations."
   ],
   "id": "bb66825dd3ff32ce"
  }
 ],
 "metadata": {
  "kernelspec": {
   "display_name": "Python 3",
   "language": "python",
   "name": "python3"
  },
  "language_info": {
   "codemirror_mode": {
    "name": "ipython",
    "version": 2
   },
   "file_extension": ".py",
   "mimetype": "text/x-python",
   "name": "python",
   "nbconvert_exporter": "python",
   "pygments_lexer": "ipython2",
   "version": "2.7.6"
  }
 },
 "nbformat": 4,
 "nbformat_minor": 5
}
