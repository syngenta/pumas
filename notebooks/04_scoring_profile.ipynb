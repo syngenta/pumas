{
 "cells": [
  {
   "metadata": {},
   "cell_type": "markdown",
   "source": [
    "# Scoring profile\n",
    "The scoring profile represents the \"recipe\" of a multi-objective scoring systems.\n",
    "It includes information about the different objectives, and for each indicates the corresponding desirability function and its shape parameters. \n",
    "It also includes information about the aggregation strategy, and the weights of each objective within the overall score."
   ],
   "id": "163e44fea057ded"
  },
  {
   "metadata": {},
   "cell_type": "markdown",
   "source": [
    "# Data Model for Scoring Profiles\n",
    "\n",
    "## Class Diagram"
   ],
   "id": "ace2beb1c0ccb096"
  },
  {
   "metadata": {
    "ExecuteTime": {
     "end_time": "2025-03-13T21:55:33.319924Z",
     "start_time": "2025-03-13T21:55:33.298925Z"
    }
   },
   "cell_type": "code",
   "source": [
    "from mermaid_utils import Mermaid\n",
    "mermaid_txt=\"\"\"\n",
    "classDiagram\n",
    "    class Profile {\n",
    "        +List[Objective] objectives\n",
    "        +AggregationFunction aggregation_function\n",
    "        +validate_weights()\n",
    "        +validate_unique_objective_names()\n",
    "        +write_to_file(file_path)\n",
    "        +read_from_file(file_path)\n",
    "    }\n",
    "    class Objective {\n",
    "        +str name\n",
    "        +DesirabilityFunction desirability_function\n",
    "        +Optional[float] weight\n",
    "        +Optional[Literal] value_type\n",
    "        +Optional[Literal] kind\n",
    "    }\n",
    "    class DesirabilityFunction {\n",
    "        +str name\n",
    "        +Dict[str, Any] parameters\n",
    "        +validate_desirability_function_name()\n",
    "        +validate_desirability_function_parameters()\n",
    "    }\n",
    "    class AggregationFunction {\n",
    "        +str name\n",
    "        +Optional[Dict[str, Any]] parameters\n",
    "        +validate_aggregation_function()\n",
    "    }\n",
    "    Profile \"1\" -- \"*\" Objective\n",
    "    Profile \"1\" -- \"1\" AggregationFunction\n",
    "    Objective \"1\" -- \"1\" DesirabilityFunction\n",
    "    \"\"\"\n",
    "Mermaid(mermaid_txt)"
   ],
   "id": "6308e6208f28d10",
   "outputs": [
    {
     "data": {
      "text/html": [
       "<img src=\"https://mermaid.ink/img/CmNsYXNzRGlhZ3JhbQogICAgY2xhc3MgUHJvZmlsZSB7CiAgICAgICAgK0xpc3RbT2JqZWN0aXZlXSBvYmplY3RpdmVzCiAgICAgICAgK0FnZ3JlZ2F0aW9uRnVuY3Rpb24gYWdncmVnYXRpb25fZnVuY3Rpb24KICAgICAgICArdmFsaWRhdGVfd2VpZ2h0cygpCiAgICAgICAgK3ZhbGlkYXRlX3VuaXF1ZV9vYmplY3RpdmVfbmFtZXMoKQogICAgICAgICt3cml0ZV90b19maWxlKGZpbGVfcGF0aCkKICAgICAgICArcmVhZF9mcm9tX2ZpbGUoZmlsZV9wYXRoKQogICAgfQogICAgY2xhc3MgT2JqZWN0aXZlIHsKICAgICAgICArc3RyIG5hbWUKICAgICAgICArRGVzaXJhYmlsaXR5RnVuY3Rpb24gZGVzaXJhYmlsaXR5X2Z1bmN0aW9uCiAgICAgICAgK09wdGlvbmFsW2Zsb2F0XSB3ZWlnaHQKICAgICAgICArT3B0aW9uYWxbTGl0ZXJhbF0gdmFsdWVfdHlwZQogICAgICAgICtPcHRpb25hbFtMaXRlcmFsXSBraW5kCiAgICB9CiAgICBjbGFzcyBEZXNpcmFiaWxpdHlGdW5jdGlvbiB7CiAgICAgICAgK3N0ciBuYW1lCiAgICAgICAgK0RpY3Rbc3RyLCBBbnldIHBhcmFtZXRlcnMKICAgICAgICArdmFsaWRhdGVfZGVzaXJhYmlsaXR5X2Z1bmN0aW9uX25hbWUoKQogICAgICAgICt2YWxpZGF0ZV9kZXNpcmFiaWxpdHlfZnVuY3Rpb25fcGFyYW1ldGVycygpCiAgICB9CiAgICBjbGFzcyBBZ2dyZWdhdGlvbkZ1bmN0aW9uIHsKICAgICAgICArc3RyIG5hbWUKICAgICAgICArT3B0aW9uYWxbRGljdFtzdHIsIEFueV1dIHBhcmFtZXRlcnMKICAgICAgICArdmFsaWRhdGVfYWdncmVnYXRpb25fZnVuY3Rpb24oKQogICAgfQogICAgUHJvZmlsZSAiMSIgLS0gIioiIE9iamVjdGl2ZQogICAgUHJvZmlsZSAiMSIgLS0gIjEiIEFnZ3JlZ2F0aW9uRnVuY3Rpb24KICAgIE9iamVjdGl2ZSAiMSIgLS0gIjEiIERlc2lyYWJpbGl0eUZ1bmN0aW9uCiAgICA=\"/>"
      ],
      "text/plain": [
       "<IPython.core.display.Image object>"
      ]
     },
     "metadata": {},
     "output_type": "display_data"
    }
   ],
   "execution_count": 3
  },
  {
   "metadata": {},
   "cell_type": "markdown",
   "source": [
    "\n",
    "## Data Model Description\n",
    "\n",
    "The data model for scoring profiles consists of four main classes:\n",
    "\n",
    "1. **Profile**: This is the top-level class that represents a complete scoring profile.\n",
    "   - It contains a list of `Objective` instances and an `AggregationFunction`.\n",
    "   - Validations:\n",
    "     - Ensures that either all objectives have weights or none have weights.\n",
    "     - Checks that objective names are unique.\n",
    "\n",
    "2. **Objective**: Represents a single objective in the scoring profile.\n",
    "   - Contains a name, a `DesirabilityFunction`, an optional weight, and optional type information.\n",
    "\n",
    "3. **DesirabilityFunction**: Defines a desirability function for an objective.\n",
    "   - Has a name and a dictionary of parameters.\n",
    "   - Validations:\n",
    "     - Checks if the desirability function name is valid (exists in the catalogue).\n",
    "     - Validates the parameters for the specific desirability function.\n",
    "\n",
    "4. **AggregationFunction**: Defines how the individual objective scores are combined.\n",
    "   - Has a name and optional parameters.\n",
    "   - Validations:\n",
    "     - Checks if the aggregation function name is valid (exists in the catalogue).\n",
    "\n",
    "Each layer of the model includes its own validations to ensure data integrity and consistency.\n",
    "\n",
    "## Example Scoring Profile\n",
    "\n",
    "Here's an example of a scoring profile as a Python dictionary:"
   ],
   "id": "95bce6057f93a8ab"
  },
  {
   "metadata": {
    "ExecuteTime": {
     "end_time": "2025-03-13T22:08:56.786786Z",
     "start_time": "2025-03-13T22:08:56.763770Z"
    }
   },
   "cell_type": "code",
   "source": [
    "\n",
    "scoring_profile_dict = {\n",
    "        \"objectives\": [\n",
    "            {\n",
    "                \"name\": \"quality\",\n",
    "                \"desirability_function\": {\n",
    "                    \"name\": \"sigmoid\",\n",
    "                    \"parameters\": {\n",
    "                        \"low\": 1.0,\n",
    "                        \"high\": 10.0,\n",
    "                        \"k\": 0.1,\n",
    "                        \"shift\": 0.0,\n",
    "                        \"base\": 10.0,\n",
    "                    },\n",
    "                },\n",
    "                \"weight\": 1.0,\n",
    "                \"value_type\": \"float\",\n",
    "                \"kind\": \"numerical\",\n",
    "            },\n",
    "            {\n",
    "                \"name\": \"efficiency\",\n",
    "                \"desirability_function\": {\n",
    "                    \"name\": \"sigmoid\",\n",
    "                    \"parameters\": {\n",
    "                        \"low\": 0.2,\n",
    "                        \"high\": 0.8,\n",
    "                        \"k\": 0.1,\n",
    "                        \"shift\": 0.0,\n",
    "                        \"base\": 10.0,\n",
    "                    },\n",
    "                },\n",
    "                \"weight\": 2.0,\n",
    "                \"value_type\": \"float\",\n",
    "                \"kind\": \"numerical\",\n",
    "            },\n",
    "            {\n",
    "                \"name\": \"cost\",\n",
    "                \"desirability_function\": {\n",
    "                    \"name\": \"sigmoid\",\n",
    "                    \"parameters\": {\n",
    "                        \"low\": 20.0,\n",
    "                        \"high\": 80.0,\n",
    "                        \"k\": -0.5,\n",
    "                        \"shift\": 0.0,\n",
    "                        \"base\": 10.0,\n",
    "                    },\n",
    "                },\n",
    "                \"weight\": 3.0,\n",
    "                \"value_type\": \"float\",\n",
    "                \"kind\": \"numerical\",\n",
    "            },\n",
    "        ],\n",
    "        \"aggregation_function\": {\n",
    "            \"name\": \"geometric_mean\",\n",
    "            \"parameters\": {},\n",
    "        },\n",
    "    }"
   ],
   "id": "f284ecf2951b0774",
   "outputs": [],
   "execution_count": 7
  },
  {
   "metadata": {
    "ExecuteTime": {
     "end_time": "2025-03-13T22:08:58.149180Z",
     "start_time": "2025-03-13T22:08:58.134160Z"
    }
   },
   "cell_type": "code",
   "source": [
    "# import the library and print the version\n",
    "import pumas\n",
    "print(pumas.__version__)"
   ],
   "id": "ef293b882f0c9fef",
   "outputs": [
    {
     "name": "stdout",
     "output_type": "stream",
     "text": [
      "0.0.0\n"
     ]
    }
   ],
   "execution_count": 8
  },
  {
   "metadata": {
    "ExecuteTime": {
     "end_time": "2025-03-13T22:09:58.153701Z",
     "start_time": "2025-03-13T22:09:58.141699Z"
    }
   },
   "cell_type": "code",
   "source": [
    "from pumas.scoring_profile.scoring_profile import Profile\n",
    "# Instantiate the Profile class with the scoring profile\n",
    "profile = Profile.model_validate(scoring_profile_dict)\n",
    "\n",
    "print(profile.model_dump_json(indent=2))"
   ],
   "id": "c702c8469c0de327",
   "outputs": [
    {
     "name": "stdout",
     "output_type": "stream",
     "text": [
      "{\n",
      "  \"objectives\": [\n",
      "    {\n",
      "      \"name\": \"quality\",\n",
      "      \"desirability_function\": {\n",
      "        \"name\": \"sigmoid\",\n",
      "        \"parameters\": {\n",
      "          \"low\": 1.0,\n",
      "          \"high\": 10.0,\n",
      "          \"k\": 0.1,\n",
      "          \"shift\": 0.0,\n",
      "          \"base\": 10.0\n",
      "        }\n",
      "      },\n",
      "      \"weight\": 1.0,\n",
      "      \"value_type\": \"float\",\n",
      "      \"kind\": \"numerical\"\n",
      "    },\n",
      "    {\n",
      "      \"name\": \"efficiency\",\n",
      "      \"desirability_function\": {\n",
      "        \"name\": \"sigmoid\",\n",
      "        \"parameters\": {\n",
      "          \"low\": 0.2,\n",
      "          \"high\": 0.8,\n",
      "          \"k\": 0.1,\n",
      "          \"shift\": 0.0,\n",
      "          \"base\": 10.0\n",
      "        }\n",
      "      },\n",
      "      \"weight\": 2.0,\n",
      "      \"value_type\": \"float\",\n",
      "      \"kind\": \"numerical\"\n",
      "    },\n",
      "    {\n",
      "      \"name\": \"cost\",\n",
      "      \"desirability_function\": {\n",
      "        \"name\": \"sigmoid\",\n",
      "        \"parameters\": {\n",
      "          \"low\": 20.0,\n",
      "          \"high\": 80.0,\n",
      "          \"k\": -0.5,\n",
      "          \"shift\": 0.0,\n",
      "          \"base\": 10.0\n",
      "        }\n",
      "      },\n",
      "      \"weight\": 3.0,\n",
      "      \"value_type\": \"float\",\n",
      "      \"kind\": \"numerical\"\n",
      "    }\n",
      "  ],\n",
      "  \"aggregation_function\": {\n",
      "    \"name\": \"geometric_mean\",\n",
      "    \"parameters\": {}\n",
      "  }\n",
      "}\n"
     ]
    }
   ],
   "execution_count": 14
  },
  {
   "metadata": {},
   "cell_type": "markdown",
   "source": [
    "\n",
    "The `Profile.model_validate()` method is used to create a `Profile` instance from the dictionary, which will trigger all the defined validations."
   ],
   "id": "bb66825dd3ff32ce"
  }
 ],
 "metadata": {
  "kernelspec": {
   "display_name": "Python 3",
   "language": "python",
   "name": "python3"
  },
  "language_info": {
   "codemirror_mode": {
    "name": "ipython",
    "version": 2
   },
   "file_extension": ".py",
   "mimetype": "text/x-python",
   "name": "python",
   "nbconvert_exporter": "python",
   "pygments_lexer": "ipython2",
   "version": "2.7.6"
  }
 },
 "nbformat": 4,
 "nbformat_minor": 5
}
